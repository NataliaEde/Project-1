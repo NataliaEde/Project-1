{
 "cells": [
  {
   "cell_type": "markdown",
   "metadata": {},
   "source": [
    "# Final Project Submission\n",
    "\n",
    "Please fill out:\n",
    "* Student name: Natalia Edelson\n",
    "* Student pace: part time\n",
    "* Scheduled project review date/time: \n",
    "* Instructor name: Jeffery Herman\n",
    "* Blog post URL:\n"
   ]
  },
  {
   "cell_type": "markdown",
   "metadata": {},
   "source": [
    "# OSEMiN \n",
    "## Obtaining:\n",
    "  "
   ]
  },
  {
   "cell_type": "code",
   "execution_count": 2,
   "metadata": {},
   "outputs": [
    {
     "data": {
      "text/html": [
       "<div>\n",
       "<style scoped>\n",
       "    .dataframe tbody tr th:only-of-type {\n",
       "        vertical-align: middle;\n",
       "    }\n",
       "\n",
       "    .dataframe tbody tr th {\n",
       "        vertical-align: top;\n",
       "    }\n",
       "\n",
       "    .dataframe thead th {\n",
       "        text-align: right;\n",
       "    }\n",
       "</style>\n",
       "<table border=\"1\" class=\"dataframe\">\n",
       "  <thead>\n",
       "    <tr style=\"text-align: right;\">\n",
       "      <th></th>\n",
       "      <th>id</th>\n",
       "      <th>date</th>\n",
       "      <th>price</th>\n",
       "      <th>bedrooms</th>\n",
       "      <th>bathrooms</th>\n",
       "      <th>sqft_living</th>\n",
       "      <th>sqft_lot</th>\n",
       "      <th>floors</th>\n",
       "      <th>waterfront</th>\n",
       "      <th>view</th>\n",
       "      <th>...</th>\n",
       "      <th>grade</th>\n",
       "      <th>sqft_above</th>\n",
       "      <th>sqft_basement</th>\n",
       "      <th>yr_built</th>\n",
       "      <th>yr_renovated</th>\n",
       "      <th>zipcode</th>\n",
       "      <th>lat</th>\n",
       "      <th>long</th>\n",
       "      <th>sqft_living15</th>\n",
       "      <th>sqft_lot15</th>\n",
       "    </tr>\n",
       "  </thead>\n",
       "  <tbody>\n",
       "    <tr>\n",
       "      <th>0</th>\n",
       "      <td>7129300520</td>\n",
       "      <td>2014-10-13</td>\n",
       "      <td>221900</td>\n",
       "      <td>3</td>\n",
       "      <td>1.00</td>\n",
       "      <td>1180</td>\n",
       "      <td>5650</td>\n",
       "      <td>1.0</td>\n",
       "      <td>NaN</td>\n",
       "      <td>0.0</td>\n",
       "      <td>...</td>\n",
       "      <td>7</td>\n",
       "      <td>1180</td>\n",
       "      <td>0</td>\n",
       "      <td>1955</td>\n",
       "      <td>0.0</td>\n",
       "      <td>98178</td>\n",
       "      <td>47.5112</td>\n",
       "      <td>-122.257</td>\n",
       "      <td>1340</td>\n",
       "      <td>5650</td>\n",
       "    </tr>\n",
       "    <tr>\n",
       "      <th>1</th>\n",
       "      <td>6414100192</td>\n",
       "      <td>2014-12-09</td>\n",
       "      <td>538000</td>\n",
       "      <td>3</td>\n",
       "      <td>2.25</td>\n",
       "      <td>2570</td>\n",
       "      <td>7242</td>\n",
       "      <td>2.0</td>\n",
       "      <td>0.0</td>\n",
       "      <td>0.0</td>\n",
       "      <td>...</td>\n",
       "      <td>7</td>\n",
       "      <td>2170</td>\n",
       "      <td>400</td>\n",
       "      <td>1951</td>\n",
       "      <td>1991.0</td>\n",
       "      <td>98125</td>\n",
       "      <td>47.7210</td>\n",
       "      <td>-122.319</td>\n",
       "      <td>1690</td>\n",
       "      <td>7639</td>\n",
       "    </tr>\n",
       "    <tr>\n",
       "      <th>2</th>\n",
       "      <td>5631500400</td>\n",
       "      <td>2015-02-25</td>\n",
       "      <td>180000</td>\n",
       "      <td>2</td>\n",
       "      <td>1.00</td>\n",
       "      <td>770</td>\n",
       "      <td>10000</td>\n",
       "      <td>1.0</td>\n",
       "      <td>0.0</td>\n",
       "      <td>0.0</td>\n",
       "      <td>...</td>\n",
       "      <td>6</td>\n",
       "      <td>770</td>\n",
       "      <td>0</td>\n",
       "      <td>1933</td>\n",
       "      <td>NaN</td>\n",
       "      <td>98028</td>\n",
       "      <td>47.7379</td>\n",
       "      <td>-122.233</td>\n",
       "      <td>2720</td>\n",
       "      <td>8062</td>\n",
       "    </tr>\n",
       "    <tr>\n",
       "      <th>3</th>\n",
       "      <td>2487200875</td>\n",
       "      <td>2014-12-09</td>\n",
       "      <td>604000</td>\n",
       "      <td>4</td>\n",
       "      <td>3.00</td>\n",
       "      <td>1960</td>\n",
       "      <td>5000</td>\n",
       "      <td>1.0</td>\n",
       "      <td>0.0</td>\n",
       "      <td>0.0</td>\n",
       "      <td>...</td>\n",
       "      <td>7</td>\n",
       "      <td>1050</td>\n",
       "      <td>910</td>\n",
       "      <td>1965</td>\n",
       "      <td>0.0</td>\n",
       "      <td>98136</td>\n",
       "      <td>47.5208</td>\n",
       "      <td>-122.393</td>\n",
       "      <td>1360</td>\n",
       "      <td>5000</td>\n",
       "    </tr>\n",
       "    <tr>\n",
       "      <th>4</th>\n",
       "      <td>1954400510</td>\n",
       "      <td>2015-02-18</td>\n",
       "      <td>510000</td>\n",
       "      <td>3</td>\n",
       "      <td>2.00</td>\n",
       "      <td>1680</td>\n",
       "      <td>8080</td>\n",
       "      <td>1.0</td>\n",
       "      <td>0.0</td>\n",
       "      <td>0.0</td>\n",
       "      <td>...</td>\n",
       "      <td>8</td>\n",
       "      <td>1680</td>\n",
       "      <td>0</td>\n",
       "      <td>1987</td>\n",
       "      <td>0.0</td>\n",
       "      <td>98074</td>\n",
       "      <td>47.6168</td>\n",
       "      <td>-122.045</td>\n",
       "      <td>1800</td>\n",
       "      <td>7503</td>\n",
       "    </tr>\n",
       "  </tbody>\n",
       "</table>\n",
       "<p>5 rows × 21 columns</p>\n",
       "</div>"
      ],
      "text/plain": [
       "           id       date   price  bedrooms  bathrooms  sqft_living  sqft_lot  \\\n",
       "0  7129300520 2014-10-13  221900         3       1.00         1180      5650   \n",
       "1  6414100192 2014-12-09  538000         3       2.25         2570      7242   \n",
       "2  5631500400 2015-02-25  180000         2       1.00          770     10000   \n",
       "3  2487200875 2014-12-09  604000         4       3.00         1960      5000   \n",
       "4  1954400510 2015-02-18  510000         3       2.00         1680      8080   \n",
       "\n",
       "   floors  waterfront  view     ...      grade  sqft_above  sqft_basement  \\\n",
       "0     1.0         NaN   0.0     ...          7        1180              0   \n",
       "1     2.0         0.0   0.0     ...          7        2170            400   \n",
       "2     1.0         0.0   0.0     ...          6         770              0   \n",
       "3     1.0         0.0   0.0     ...          7        1050            910   \n",
       "4     1.0         0.0   0.0     ...          8        1680              0   \n",
       "\n",
       "  yr_built  yr_renovated  zipcode      lat     long  sqft_living15  sqft_lot15  \n",
       "0     1955           0.0    98178  47.5112 -122.257           1340        5650  \n",
       "1     1951        1991.0    98125  47.7210 -122.319           1690        7639  \n",
       "2     1933           NaN    98028  47.7379 -122.233           2720        8062  \n",
       "3     1965           0.0    98136  47.5208 -122.393           1360        5000  \n",
       "4     1987           0.0    98074  47.6168 -122.045           1800        7503  \n",
       "\n",
       "[5 rows x 21 columns]"
      ]
     },
     "execution_count": 2,
     "metadata": {},
     "output_type": "execute_result"
    }
   ],
   "source": [
    "# Import the neccessary libraries \n",
    "import pandas as pd \n",
    "import statsmodels as sm\n",
    "from   statsmodels.api import formula \n",
    "import numpy as np\n",
    "import matplotlib.pyplot as plt\n",
    "import seaborn as sns\n",
    "\n",
    "# Upload the data \n",
    "df = pd.read_csv(\"kc_house_data.csv\",parse_dates =['date'])\n",
    "\n",
    "# look that the data has been uploaded properly and have a first glance ...\n",
    "df.head()"
   ]
  },
  {
   "cell_type": "code",
   "execution_count": 3,
   "metadata": {},
   "outputs": [
    {
     "name": "stdout",
     "output_type": "stream",
     "text": [
      "<class 'pandas.core.frame.DataFrame'>\n",
      "RangeIndex: 21597 entries, 0 to 21596\n",
      "Data columns (total 21 columns):\n",
      "id               21597 non-null int64\n",
      "date             21597 non-null datetime64[ns]\n",
      "price            21597 non-null int64\n",
      "bedrooms         21597 non-null int64\n",
      "bathrooms        21597 non-null float64\n",
      "sqft_living      21597 non-null int64\n",
      "sqft_lot         21597 non-null int64\n",
      "floors           21597 non-null float64\n",
      "waterfront       19221 non-null float64\n",
      "view             21534 non-null float64\n",
      "condition        21597 non-null int64\n",
      "grade            21597 non-null int64\n",
      "sqft_above       21597 non-null int64\n",
      "sqft_basement    21597 non-null object\n",
      "yr_built         21597 non-null int64\n",
      "yr_renovated     17755 non-null float64\n",
      "zipcode          21597 non-null int64\n",
      "lat              21597 non-null float64\n",
      "long             21597 non-null float64\n",
      "sqft_living15    21597 non-null int64\n",
      "sqft_lot15       21597 non-null int64\n",
      "dtypes: datetime64[ns](1), float64(7), int64(12), object(1)\n",
      "memory usage: 3.5+ MB\n"
     ]
    }
   ],
   "source": [
    "df.info()"
   ]
  },
  {
   "cell_type": "markdown",
   "metadata": {},
   "source": [
    "## Scrubbing:"
   ]
  },
  {
   "cell_type": "markdown",
   "metadata": {},
   "source": [
    "#### Let's start by cleaning the data. When we clean the data we should have a few goals in mind.\n",
    "     * Detect the NaN values  and '?' place holders. Decide how best to handle them.  \n",
    "     * Look closely into the information of the data to check if values are missing.   \n",
    "       Also, if numerical values are shown as objects, it suggests that there are place \n",
    "       holders such as '?'.\n",
    "     * Search for outliers and assess whether they should be removed. \n",
    "\n",
    "\n",
    "\n",
    "\n",
    "\n"
   ]
  },
  {
   "cell_type": "markdown",
   "metadata": {},
   "source": [
    "####  Notes from info()\n",
    "\n",
    "   * waterfront, view and yr_renovated have missing values since it shows fewer values \n",
    "     versus the data points in the other columns\n",
    "   * sqft_basement is an object and it should be a number \n",
    "\n",
    "\n",
    "\n"
   ]
  },
  {
   "cell_type": "markdown",
   "metadata": {},
   "source": [
    "#### Let's sum the null values "
   ]
  },
  {
   "cell_type": "code",
   "execution_count": 4,
   "metadata": {
    "scrolled": true
   },
   "outputs": [
    {
     "data": {
      "text/plain": [
       "id                  0\n",
       "date                0\n",
       "price               0\n",
       "bedrooms            0\n",
       "bathrooms           0\n",
       "sqft_living         0\n",
       "sqft_lot            0\n",
       "floors              0\n",
       "waterfront       2376\n",
       "view               63\n",
       "condition           0\n",
       "grade               0\n",
       "sqft_above          0\n",
       "sqft_basement       0\n",
       "yr_built            0\n",
       "yr_renovated     3842\n",
       "zipcode             0\n",
       "lat                 0\n",
       "long                0\n",
       "sqft_living15       0\n",
       "sqft_lot15          0\n",
       "dtype: int64"
      ]
     },
     "execution_count": 4,
     "metadata": {},
     "output_type": "execute_result"
    }
   ],
   "source": [
    "df.isnull().sum()"
   ]
  },
  {
   "cell_type": "markdown",
   "metadata": {},
   "source": [
    "#### Visualizing NaN values "
   ]
  },
  {
   "cell_type": "code",
   "execution_count": 5,
   "metadata": {},
   "outputs": [
    {
     "data": {
      "image/png": "[encoded data removed]",
      "text/plain": [
       "<Figure size 432x288 with 1 Axes>"
      ]
     },
     "metadata": {
      "needs_background": "light"
     },
     "output_type": "display_data"
    }
   ],
   "source": [
    "# Use the heatmap code which shows the contrast well.\n",
    "\n",
    "sns.heatmap(df.isnull(), cbar=False)\n",
    "plt.title(\"NaNs\")\n",
    "plt.xlabel('Culomns')\n",
    "plt.ylabel('Row')\n",
    "plt.show()\n"
   ]
  },
  {
   "cell_type": "markdown",
   "metadata": {},
   "source": [
    "#### Let's check how many null values there are look at what else needs to be cleaned \n",
    "    - Date and sqft_basement both need to be cleaned since they show 'object' as their data type and we should only be seeing a number     \n",
    "    - Need to look closely into each of the follwoing ones:\n",
    "         * bedrooms  - only two values have NaNs; therefore I will drop the rows - it \n",
    "         won't have much impact  \n",
    "         * waterfront  - I decided to change all the NaNs to '0' i.e. houses without \n",
    "         waterfront given that most of the data for that variable indicates as such. \n",
    "         * view  - only 63 values show NaNs and therefore I will drop the rows - it won't \n",
    "         have much impact  \n",
    "         * yr_renovated - I will drop this column given that there are too many NaN \n",
    "         values."
   ]
  },
  {
   "cell_type": "code",
   "execution_count": 6,
   "metadata": {},
   "outputs": [],
   "source": [
    "# Let's drop all the rows in which there are NaNs in the bedroom column. \n",
    "df = df.dropna(subset=['bedrooms'])"
   ]
  },
  {
   "cell_type": "code",
   "execution_count": 7,
   "metadata": {},
   "outputs": [],
   "source": [
    "# Let's drop all the rows in which there is NaNs in the view column. \n",
    "df = df.dropna(subset=['view'])"
   ]
  },
  {
   "cell_type": "code",
   "execution_count": 8,
   "metadata": {},
   "outputs": [
    {
     "data": {
      "text/plain": [
       "id                  0\n",
       "date                0\n",
       "price               0\n",
       "bedrooms            0\n",
       "bathrooms           0\n",
       "sqft_living         0\n",
       "sqft_lot            0\n",
       "floors              0\n",
       "waterfront       2370\n",
       "view                0\n",
       "condition           0\n",
       "grade               0\n",
       "sqft_above          0\n",
       "sqft_basement       0\n",
       "yr_built            0\n",
       "yr_renovated     3830\n",
       "zipcode             0\n",
       "lat                 0\n",
       "long                0\n",
       "sqft_living15       0\n",
       "sqft_lot15          0\n",
       "dtype: int64"
      ]
     },
     "execution_count": 8,
     "metadata": {},
     "output_type": "execute_result"
    }
   ],
   "source": [
    "# We will run the is sum of null code again to see what's left.  \n",
    "df.isnull().sum()"
   ]
  },
  {
   "cell_type": "markdown",
   "metadata": {},
   "source": [
    "#### Examining closely the Waterfront variable"
   ]
  },
  {
   "cell_type": "code",
   "execution_count": 9,
   "metadata": {},
   "outputs": [
    {
     "data": {
      "text/plain": [
       "0.0    19019\n",
       "1.0      145\n",
       "Name: waterfront, dtype: int64"
      ]
     },
     "execution_count": 9,
     "metadata": {},
     "output_type": "execute_result"
    }
   ],
   "source": [
    "# Counting to see how many houses are with and how many are without waterfront \n",
    "df.waterfront.value_counts()"
   ]
  },
  {
   "cell_type": "markdown",
   "metadata": {},
   "source": [
    "##### I decided to replace the NaN values with 0 given that the majority of the data was without waterfront. Also, it was a fair amount of data (evidently presented in my NaNs graph above). If we would have removed the rows we would have lost a lot of the data from all the other columns that potentially could be useful to predict our model. "
   ]
  },
  {
   "cell_type": "code",
   "execution_count": 10,
   "metadata": {},
   "outputs": [],
   "source": [
    "#Replacig NaNs with zero.\n",
    "df.waterfront.fillna(0,inplace=True)\n"
   ]
  },
  {
   "cell_type": "markdown",
   "metadata": {},
   "source": [
    "#### Assessing closely the yr_renovated column\n",
    "         Before we are deleting the column we want to check a few items.\n",
    "             * correlation to price\n",
    "             * unique values  \n",
    "             * visualization \n",
    "             * % of the NaNs in the column\n"
   ]
  },
  {
   "cell_type": "code",
   "execution_count": 11,
   "metadata": {},
   "outputs": [
    {
     "data": {
      "text/html": [
       "<div>\n",
       "<style scoped>\n",
       "    .dataframe tbody tr th:only-of-type {\n",
       "        vertical-align: middle;\n",
       "    }\n",
       "\n",
       "    .dataframe tbody tr th {\n",
       "        vertical-align: top;\n",
       "    }\n",
       "\n",
       "    .dataframe thead th {\n",
       "        text-align: right;\n",
       "    }\n",
       "</style>\n",
       "<table border=\"1\" class=\"dataframe\">\n",
       "  <thead>\n",
       "    <tr style=\"text-align: right;\">\n",
       "      <th></th>\n",
       "      <th>price</th>\n",
       "      <th>yr_renovated</th>\n",
       "    </tr>\n",
       "  </thead>\n",
       "  <tbody>\n",
       "    <tr>\n",
       "      <th>price</th>\n",
       "      <td>1.000000</td>\n",
       "      <td>0.129887</td>\n",
       "    </tr>\n",
       "    <tr>\n",
       "      <th>yr_renovated</th>\n",
       "      <td>0.129887</td>\n",
       "      <td>1.000000</td>\n",
       "    </tr>\n",
       "  </tbody>\n",
       "</table>\n",
       "</div>"
      ],
      "text/plain": [
       "                 price  yr_renovated\n",
       "price         1.000000      0.129887\n",
       "yr_renovated  0.129887      1.000000"
      ]
     },
     "execution_count": 11,
     "metadata": {},
     "output_type": "execute_result"
    }
   ],
   "source": [
    "df[['price','yr_renovated']].corr()\n"
   ]
  },
  {
   "cell_type": "code",
   "execution_count": 12,
   "metadata": {},
   "outputs": [
    {
     "data": {
      "text/plain": [
       "array([   0., 1991.,   nan, 2002., 2010., 1992., 2013., 1994., 1978.,\n",
       "       2005., 2003., 1984., 1954., 2014., 2011., 1983., 1945., 1990.,\n",
       "       1988., 1977., 1981., 1995., 2000., 1999., 1998., 1970., 1989.,\n",
       "       2004., 1986., 2007., 1987., 2006., 1985., 2001., 1980., 1971.,\n",
       "       1979., 1997., 1950., 1969., 1948., 2009., 2015., 1974., 2008.,\n",
       "       1968., 2012., 1963., 1951., 1962., 1953., 1993., 1996., 1955.,\n",
       "       1982., 1956., 1940., 1976., 1946., 1975., 1964., 1973., 1957.,\n",
       "       1959., 1960., 1967., 1965., 1934., 1972., 1944., 1958.])"
      ]
     },
     "execution_count": 12,
     "metadata": {},
     "output_type": "execute_result"
    }
   ],
   "source": [
    "df.yr_renovated.unique()\n"
   ]
  },
  {
   "cell_type": "code",
   "execution_count": 13,
   "metadata": {},
   "outputs": [
    {
     "data": {
      "image/png": "[encoded data removed]",
      "text/plain": [
       "<Figure size 432x288 with 1 Axes>"
      ]
     },
     "metadata": {
      "needs_background": "light"
     },
     "output_type": "display_data"
    }
   ],
   "source": [
    "df.plot(kind=\"scatter\", x=\"yr_renovated\", y=\"price\",)\n",
    "plt.title(\"Year Renovatoin in Relation to Price\")\n",
    "plt.show()\n",
    "\n"
   ]
  },
  {
   "cell_type": "code",
   "execution_count": 14,
   "metadata": {},
   "outputs": [
    {
     "data": {
      "text/plain": [
       "0.17733944529332776"
      ]
     },
     "execution_count": 14,
     "metadata": {},
     "output_type": "execute_result"
    }
   ],
   "source": [
    "# Let's check the percentage of the yr renovated na values \n",
    "3830/21597\n"
   ]
  },
  {
   "cell_type": "markdown",
   "metadata": {},
   "source": [
    "#### It seems that the data was not logged in properly and that there is not much correlation to when the houses were renovated to house prices. Given the large number of NaNs values and 0s, I am removing the column all together. "
   ]
  },
  {
   "cell_type": "code",
   "execution_count": 15,
   "metadata": {},
   "outputs": [],
   "source": [
    "df.drop(['yr_renovated'], axis =1, inplace=True)"
   ]
  },
  {
   "cell_type": "markdown",
   "metadata": {},
   "source": [
    "#### Date Column\n",
    "#### Let's create two new columns, 'month' and 'year' by extracting them from the date column. It can help me detect any seasonlity trends.\n",
    "\n"
   ]
  },
  {
   "cell_type": "code",
   "execution_count": 16,
   "metadata": {},
   "outputs": [],
   "source": [
    "# using a def & lambda function will make the extraction more efficient \n",
    "def extract_date(df,column):\n",
    "    df[column+\"year\"] = df[column].apply(lambda x: x.year)\n",
    "    df[column+\"_month\"] = df[column].apply(lambda x: x.month)\n",
    "    "
   ]
  },
  {
   "cell_type": "code",
   "execution_count": 17,
   "metadata": {},
   "outputs": [],
   "source": [
    "extract_date(df,'date')"
   ]
  },
  {
   "cell_type": "code",
   "execution_count": 18,
   "metadata": {},
   "outputs": [
    {
     "data": {
      "text/html": [
       "<div>\n",
       "<style scoped>\n",
       "    .dataframe tbody tr th:only-of-type {\n",
       "        vertical-align: middle;\n",
       "    }\n",
       "\n",
       "    .dataframe tbody tr th {\n",
       "        vertical-align: top;\n",
       "    }\n",
       "\n",
       "    .dataframe thead th {\n",
       "        text-align: right;\n",
       "    }\n",
       "</style>\n",
       "<table border=\"1\" class=\"dataframe\">\n",
       "  <thead>\n",
       "    <tr style=\"text-align: right;\">\n",
       "      <th></th>\n",
       "      <th>id</th>\n",
       "      <th>date</th>\n",
       "      <th>price</th>\n",
       "      <th>bedrooms</th>\n",
       "      <th>bathrooms</th>\n",
       "      <th>sqft_living</th>\n",
       "      <th>sqft_lot</th>\n",
       "      <th>floors</th>\n",
       "      <th>waterfront</th>\n",
       "      <th>view</th>\n",
       "      <th>...</th>\n",
       "      <th>sqft_above</th>\n",
       "      <th>sqft_basement</th>\n",
       "      <th>yr_built</th>\n",
       "      <th>zipcode</th>\n",
       "      <th>lat</th>\n",
       "      <th>long</th>\n",
       "      <th>sqft_living15</th>\n",
       "      <th>sqft_lot15</th>\n",
       "      <th>dateyear</th>\n",
       "      <th>date_month</th>\n",
       "    </tr>\n",
       "  </thead>\n",
       "  <tbody>\n",
       "    <tr>\n",
       "      <th>0</th>\n",
       "      <td>7129300520</td>\n",
       "      <td>2014-10-13</td>\n",
       "      <td>221900</td>\n",
       "      <td>3</td>\n",
       "      <td>1.00</td>\n",
       "      <td>1180</td>\n",
       "      <td>5650</td>\n",
       "      <td>1.0</td>\n",
       "      <td>0.0</td>\n",
       "      <td>0.0</td>\n",
       "      <td>...</td>\n",
       "      <td>1180</td>\n",
       "      <td>0</td>\n",
       "      <td>1955</td>\n",
       "      <td>98178</td>\n",
       "      <td>47.5112</td>\n",
       "      <td>-122.257</td>\n",
       "      <td>1340</td>\n",
       "      <td>5650</td>\n",
       "      <td>2014</td>\n",
       "      <td>10</td>\n",
       "    </tr>\n",
       "    <tr>\n",
       "      <th>1</th>\n",
       "      <td>6414100192</td>\n",
       "      <td>2014-12-09</td>\n",
       "      <td>538000</td>\n",
       "      <td>3</td>\n",
       "      <td>2.25</td>\n",
       "      <td>2570</td>\n",
       "      <td>7242</td>\n",
       "      <td>2.0</td>\n",
       "      <td>0.0</td>\n",
       "      <td>0.0</td>\n",
       "      <td>...</td>\n",
       "      <td>2170</td>\n",
       "      <td>400</td>\n",
       "      <td>1951</td>\n",
       "      <td>98125</td>\n",
       "      <td>47.7210</td>\n",
       "      <td>-122.319</td>\n",
       "      <td>1690</td>\n",
       "      <td>7639</td>\n",
       "      <td>2014</td>\n",
       "      <td>12</td>\n",
       "    </tr>\n",
       "    <tr>\n",
       "      <th>2</th>\n",
       "      <td>5631500400</td>\n",
       "      <td>2015-02-25</td>\n",
       "      <td>180000</td>\n",
       "      <td>2</td>\n",
       "      <td>1.00</td>\n",
       "      <td>770</td>\n",
       "      <td>10000</td>\n",
       "      <td>1.0</td>\n",
       "      <td>0.0</td>\n",
       "      <td>0.0</td>\n",
       "      <td>...</td>\n",
       "      <td>770</td>\n",
       "      <td>0</td>\n",
       "      <td>1933</td>\n",
       "      <td>98028</td>\n",
       "      <td>47.7379</td>\n",
       "      <td>-122.233</td>\n",
       "      <td>2720</td>\n",
       "      <td>8062</td>\n",
       "      <td>2015</td>\n",
       "      <td>2</td>\n",
       "    </tr>\n",
       "    <tr>\n",
       "      <th>3</th>\n",
       "      <td>2487200875</td>\n",
       "      <td>2014-12-09</td>\n",
       "      <td>604000</td>\n",
       "      <td>4</td>\n",
       "      <td>3.00</td>\n",
       "      <td>1960</td>\n",
       "      <td>5000</td>\n",
       "      <td>1.0</td>\n",
       "      <td>0.0</td>\n",
       "      <td>0.0</td>\n",
       "      <td>...</td>\n",
       "      <td>1050</td>\n",
       "      <td>910</td>\n",
       "      <td>1965</td>\n",
       "      <td>98136</td>\n",
       "      <td>47.5208</td>\n",
       "      <td>-122.393</td>\n",
       "      <td>1360</td>\n",
       "      <td>5000</td>\n",
       "      <td>2014</td>\n",
       "      <td>12</td>\n",
       "    </tr>\n",
       "    <tr>\n",
       "      <th>4</th>\n",
       "      <td>1954400510</td>\n",
       "      <td>2015-02-18</td>\n",
       "      <td>510000</td>\n",
       "      <td>3</td>\n",
       "      <td>2.00</td>\n",
       "      <td>1680</td>\n",
       "      <td>8080</td>\n",
       "      <td>1.0</td>\n",
       "      <td>0.0</td>\n",
       "      <td>0.0</td>\n",
       "      <td>...</td>\n",
       "      <td>1680</td>\n",
       "      <td>0</td>\n",
       "      <td>1987</td>\n",
       "      <td>98074</td>\n",
       "      <td>47.6168</td>\n",
       "      <td>-122.045</td>\n",
       "      <td>1800</td>\n",
       "      <td>7503</td>\n",
       "      <td>2015</td>\n",
       "      <td>2</td>\n",
       "    </tr>\n",
       "  </tbody>\n",
       "</table>\n",
       "<p>5 rows × 22 columns</p>\n",
       "</div>"
      ],
      "text/plain": [
       "           id       date   price  bedrooms  bathrooms  sqft_living  sqft_lot  \\\n",
       "0  7129300520 2014-10-13  221900         3       1.00         1180      5650   \n",
       "1  6414100192 2014-12-09  538000         3       2.25         2570      7242   \n",
       "2  5631500400 2015-02-25  180000         2       1.00          770     10000   \n",
       "3  2487200875 2014-12-09  604000         4       3.00         1960      5000   \n",
       "4  1954400510 2015-02-18  510000         3       2.00         1680      8080   \n",
       "\n",
       "   floors  waterfront  view     ...      sqft_above  sqft_basement  yr_built  \\\n",
       "0     1.0         0.0   0.0     ...            1180              0      1955   \n",
       "1     2.0         0.0   0.0     ...            2170            400      1951   \n",
       "2     1.0         0.0   0.0     ...             770              0      1933   \n",
       "3     1.0         0.0   0.0     ...            1050            910      1965   \n",
       "4     1.0         0.0   0.0     ...            1680              0      1987   \n",
       "\n",
       "  zipcode      lat     long  sqft_living15  sqft_lot15  dateyear  date_month  \n",
       "0   98178  47.5112 -122.257           1340        5650      2014          10  \n",
       "1   98125  47.7210 -122.319           1690        7639      2014          12  \n",
       "2   98028  47.7379 -122.233           2720        8062      2015           2  \n",
       "3   98136  47.5208 -122.393           1360        5000      2014          12  \n",
       "4   98074  47.6168 -122.045           1800        7503      2015           2  \n",
       "\n",
       "[5 rows x 22 columns]"
      ]
     },
     "execution_count": 18,
     "metadata": {},
     "output_type": "execute_result"
    }
   ],
   "source": [
    "# Making sure that the two columns were added\n",
    "df.head()"
   ]
  },
  {
   "cell_type": "code",
   "execution_count": 19,
   "metadata": {},
   "outputs": [
    {
     "name": "stdout",
     "output_type": "stream",
     "text": [
      "<class 'pandas.core.frame.DataFrame'>\n",
      "Int64Index: 21534 entries, 0 to 21596\n",
      "Data columns (total 22 columns):\n",
      "id               21534 non-null int64\n",
      "date             21534 non-null datetime64[ns]\n",
      "price            21534 non-null int64\n",
      "bedrooms         21534 non-null int64\n",
      "bathrooms        21534 non-null float64\n",
      "sqft_living      21534 non-null int64\n",
      "sqft_lot         21534 non-null int64\n",
      "floors           21534 non-null float64\n",
      "waterfront       21534 non-null float64\n",
      "view             21534 non-null float64\n",
      "condition        21534 non-null int64\n",
      "grade            21534 non-null int64\n",
      "sqft_above       21534 non-null int64\n",
      "sqft_basement    21534 non-null object\n",
      "yr_built         21534 non-null int64\n",
      "zipcode          21534 non-null int64\n",
      "lat              21534 non-null float64\n",
      "long             21534 non-null float64\n",
      "sqft_living15    21534 non-null int64\n",
      "sqft_lot15       21534 non-null int64\n",
      "dateyear         21534 non-null int64\n",
      "date_month       21534 non-null int64\n",
      "dtypes: datetime64[ns](1), float64(6), int64(14), object(1)\n",
      "memory usage: 3.8+ MB\n"
     ]
    }
   ],
   "source": [
    " \n",
    "df.info()"
   ]
  },
  {
   "cell_type": "markdown",
   "metadata": {},
   "source": [
    "#### As noted above, the data type of sqft.basement is an object which is due to the space holder '?' and '0'. I will replace it with NaN and then drop the NaNs values."
   ]
  },
  {
   "cell_type": "code",
   "execution_count": 20,
   "metadata": {},
   "outputs": [],
   "source": [
    "# Replacing '?' with NaN.\n",
    "df.sqft_basement.replace('?', np.nan, inplace = True)"
   ]
  },
  {
   "cell_type": "code",
   "execution_count": 21,
   "metadata": {},
   "outputs": [],
   "source": [
    "# Replacing '0' with NaN.\n",
    "df.sqft_basement.replace('0', np.nan, inplace = True)"
   ]
  },
  {
   "cell_type": "code",
   "execution_count": 22,
   "metadata": {},
   "outputs": [],
   "source": [
    "# Dropping NaNs from Sqft Basemment \n",
    "df.dropna(subset=['sqft_basement'],inplace =True)"
   ]
  },
  {
   "cell_type": "code",
   "execution_count": 23,
   "metadata": {},
   "outputs": [
    {
     "data": {
      "text/plain": [
       "array(['400', '910', '1530', '730', '1700', '300', '970', '760', '720',\n",
       "       '700', '820', '780', '790', '330', '1620', '360', '588', '1510',\n",
       "       '410', '990', '600', '560', '550', '1000', '1600', '500', '1040',\n",
       "       '880', '1010', '240', '265', '290', '800', '540', '840', '380',\n",
       "       '770', '480', '570', '1490', '620', '1250', '1270', '120', '650',\n",
       "       '180', '1130', '450', '1640', '1460', '1020', '1030', '750', '640',\n",
       "       '1070', '490', '1310', '630', '2000', '390', '430', '210', '1430',\n",
       "       '1950', '440', '220', '1160', '860', '580', '2060', '1820', '1180',\n",
       "       '200', '1150', '1200', '680', '530', '1450', '1170', '1080', '960',\n",
       "       '280', '870', '1100', '460', '1400', '660', '1220', '900', '420',\n",
       "       '1580', '1380', '475', '690', '270', '350', '935', '710', '1370',\n",
       "       '980', '850', '1470', '160', '950', '50', '740', '1780', '1900',\n",
       "       '340', '470', '370', '140', '1760', '130', '520', '890', '1110',\n",
       "       '150', '1720', '810', '190', '1290', '670', '1800', '1120', '1810',\n",
       "       '60', '1050', '940', '310', '930', '1390', '610', '1830', '1300',\n",
       "       '510', '1330', '1590', '920', '1320', '1420', '1240', '1960',\n",
       "       '1560', '2020', '1190', '2110', '1280', '250', '1230', '170',\n",
       "       '830', '1260', '1410', '1340', '590', '1500', '1140', '260', '100',\n",
       "       '320', '1480', '1060', '1284', '1670', '1350', '2570', '1090',\n",
       "       '110', '2500', '90', '1940', '1550', '2350', '2490', '1481',\n",
       "       '1360', '1135', '1520', '1850', '1660', '2130', '2600', '1690',\n",
       "       '243', '1210', '1024', '1798', '1610', '1440', '1570', '1650',\n",
       "       '704', '1910', '1630', '2360', '1852', '2090', '2400', '1790',\n",
       "       '2150', '230', '70', '1680', '2100', '3000', '1870', '1710',\n",
       "       '2030', '875', '1540', '2850', '2170', '506', '906', '145', '2040',\n",
       "       '784', '1750', '374', '518', '2720', '2730', '1840', '3480',\n",
       "       '2160', '1920', '2330', '1860', '2050', '4820', '1913', '80',\n",
       "       '2010', '3260', '2200', '415', '1730', '652', '2196', '1930',\n",
       "       '515', '40', '2080', '2580', '1548', '1740', '235', '861', '1890',\n",
       "       '2220', '792', '2070', '4130', '2250', '2240', '1990', '768',\n",
       "       '2550', '435', '1008', '2300', '2610', '666', '3500', '172',\n",
       "       '1816', '2190', '1245', '1525', '1880', '862', '946', '1281',\n",
       "       '414', '276', '1248', '602', '516', '176', '225', '1275', '266',\n",
       "       '283', '65', '2310', '10', '1770', '2120', '295', '207', '915',\n",
       "       '556', '417', '143', '508', '2810', '20', '274', '248'],\n",
       "      dtype=object)"
      ]
     },
     "execution_count": 23,
     "metadata": {},
     "output_type": "execute_result"
    }
   ],
   "source": [
    "# I am checking all the values to make sure that '?' was removed.\n",
    "df.sqft_basement.unique()"
   ]
  },
  {
   "cell_type": "code",
   "execution_count": 24,
   "metadata": {},
   "outputs": [],
   "source": [
    "# Since it still shows as an object, let's convert the data type to int64\n",
    "df.sqft_basement = df.sqft_basement.astype(int)"
   ]
  },
  {
   "cell_type": "markdown",
   "metadata": {},
   "source": [
    "#### NaNs in Bedroom Column "
   ]
  },
  {
   "cell_type": "code",
   "execution_count": 25,
   "metadata": {},
   "outputs": [],
   "source": [
    "#I will dorp the NaNs rows from the bedrooms cloumn given that there are not that many NaNs\n",
    "df.dropna(subset=['bedrooms'],inplace =True)"
   ]
  },
  {
   "cell_type": "code",
   "execution_count": 26,
   "metadata": {},
   "outputs": [
    {
     "data": {
      "text/plain": [
       "id                        int64\n",
       "date             datetime64[ns]\n",
       "price                     int64\n",
       "bedrooms                  int64\n",
       "bathrooms               float64\n",
       "sqft_living               int64\n",
       "sqft_lot                  int64\n",
       "floors                  float64\n",
       "waterfront              float64\n",
       "view                    float64\n",
       "condition                 int64\n",
       "grade                     int64\n",
       "sqft_above                int64\n",
       "sqft_basement             int64\n",
       "yr_built                  int64\n",
       "zipcode                   int64\n",
       "lat                     float64\n",
       "long                    float64\n",
       "sqft_living15             int64\n",
       "sqft_lot15                int64\n",
       "dateyear                  int64\n",
       "date_month                int64\n",
       "dtype: object"
      ]
     },
     "execution_count": 26,
     "metadata": {},
     "output_type": "execute_result"
    }
   ],
   "source": [
    "# Confirming data type \n",
    "df.dtypes"
   ]
  },
  {
   "cell_type": "markdown",
   "metadata": {},
   "source": [
    "###  Continuing Scrubing \n",
    "#### * There are some categorical variables such as: waterfront, view, condition, grade, yr_built and zip code. I won't be looking into the mean/STD \n",
    "#### * The maximum square feet is 13,450 and the minimum is 680 which suggests a widely distributed data.\n",
    "#### * In the bedroom column the maximum number is 33 and this seems to be an outlier or perhaps even a place holder ... we will remove that data point below.\n",
    "\n"
   ]
  },
  {
   "cell_type": "code",
   "execution_count": 27,
   "metadata": {},
   "outputs": [
    {
     "data": {
      "text/plain": [
       "id               0\n",
       "date             0\n",
       "price            0\n",
       "bedrooms         0\n",
       "bathrooms        0\n",
       "sqft_living      0\n",
       "sqft_lot         0\n",
       "floors           0\n",
       "waterfront       0\n",
       "view             0\n",
       "condition        0\n",
       "grade            0\n",
       "sqft_above       0\n",
       "sqft_basement    0\n",
       "yr_built         0\n",
       "zipcode          0\n",
       "lat              0\n",
       "long             0\n",
       "sqft_living15    0\n",
       "sqft_lot15       0\n",
       "dateyear         0\n",
       "date_month       0\n",
       "dtype: int64"
      ]
     },
     "execution_count": 27,
     "metadata": {},
     "output_type": "execute_result"
    }
   ],
   "source": [
    "# Final double check that all the NaNs have been cleaned. \n",
    "df.isnull().sum()"
   ]
  },
  {
   "cell_type": "code",
   "execution_count": 28,
   "metadata": {},
   "outputs": [
    {
     "data": {
      "text/html": [
       "<div>\n",
       "<style scoped>\n",
       "    .dataframe tbody tr th:only-of-type {\n",
       "        vertical-align: middle;\n",
       "    }\n",
       "\n",
       "    .dataframe tbody tr th {\n",
       "        vertical-align: top;\n",
       "    }\n",
       "\n",
       "    .dataframe thead th {\n",
       "        text-align: right;\n",
       "    }\n",
       "</style>\n",
       "<table border=\"1\" class=\"dataframe\">\n",
       "  <thead>\n",
       "    <tr style=\"text-align: right;\">\n",
       "      <th></th>\n",
       "      <th>id</th>\n",
       "      <th>price</th>\n",
       "      <th>bedrooms</th>\n",
       "      <th>bathrooms</th>\n",
       "      <th>sqft_living</th>\n",
       "      <th>sqft_lot</th>\n",
       "      <th>floors</th>\n",
       "      <th>waterfront</th>\n",
       "      <th>view</th>\n",
       "      <th>condition</th>\n",
       "      <th>...</th>\n",
       "      <th>sqft_above</th>\n",
       "      <th>sqft_basement</th>\n",
       "      <th>yr_built</th>\n",
       "      <th>zipcode</th>\n",
       "      <th>lat</th>\n",
       "      <th>long</th>\n",
       "      <th>sqft_living15</th>\n",
       "      <th>sqft_lot15</th>\n",
       "      <th>dateyear</th>\n",
       "      <th>date_month</th>\n",
       "    </tr>\n",
       "  </thead>\n",
       "  <tbody>\n",
       "    <tr>\n",
       "      <th>count</th>\n",
       "      <td>8.284000e+03</td>\n",
       "      <td>8.284000e+03</td>\n",
       "      <td>8283.000000</td>\n",
       "      <td>8284.000000</td>\n",
       "      <td>8284.000000</td>\n",
       "      <td>8.284000e+03</td>\n",
       "      <td>8284.000000</td>\n",
       "      <td>8284.000000</td>\n",
       "      <td>8284.000000</td>\n",
       "      <td>8284.000000</td>\n",
       "      <td>...</td>\n",
       "      <td>8284.000000</td>\n",
       "      <td>8284.000000</td>\n",
       "      <td>8284.000000</td>\n",
       "      <td>8284.000000</td>\n",
       "      <td>8284.00000</td>\n",
       "      <td>8284.000000</td>\n",
       "      <td>8284.000000</td>\n",
       "      <td>8284.000000</td>\n",
       "      <td>8284.000000</td>\n",
       "      <td>8284.000000</td>\n",
       "    </tr>\n",
       "    <tr>\n",
       "      <th>mean</th>\n",
       "      <td>4.594949e+09</td>\n",
       "      <td>6.222646e+05</td>\n",
       "      <td>3.554630</td>\n",
       "      <td>2.271065</td>\n",
       "      <td>2312.629406</td>\n",
       "      <td>1.326375e+04</td>\n",
       "      <td>1.321704</td>\n",
       "      <td>0.010744</td>\n",
       "      <td>0.405722</td>\n",
       "      <td>3.516659</td>\n",
       "      <td>...</td>\n",
       "      <td>1571.145703</td>\n",
       "      <td>741.483704</td>\n",
       "      <td>1964.919363</td>\n",
       "      <td>98088.754587</td>\n",
       "      <td>47.58411</td>\n",
       "      <td>-122.255394</td>\n",
       "      <td>2024.377233</td>\n",
       "      <td>11311.890512</td>\n",
       "      <td>2014.318928</td>\n",
       "      <td>6.600555</td>\n",
       "    </tr>\n",
       "    <tr>\n",
       "      <th>std</th>\n",
       "      <td>2.873921e+09</td>\n",
       "      <td>4.409331e+05</td>\n",
       "      <td>0.956683</td>\n",
       "      <td>0.776049</td>\n",
       "      <td>951.507491</td>\n",
       "      <td>3.288693e+04</td>\n",
       "      <td>0.476245</td>\n",
       "      <td>0.103099</td>\n",
       "      <td>0.979530</td>\n",
       "      <td>0.697238</td>\n",
       "      <td>...</td>\n",
       "      <td>719.964305</td>\n",
       "      <td>404.273916</td>\n",
       "      <td>28.352062</td>\n",
       "      <td>55.694387</td>\n",
       "      <td>0.12227</td>\n",
       "      <td>0.118839</td>\n",
       "      <td>663.004275</td>\n",
       "      <td>23330.515318</td>\n",
       "      <td>0.466089</td>\n",
       "      <td>3.103573</td>\n",
       "    </tr>\n",
       "    <tr>\n",
       "      <th>min</th>\n",
       "      <td>1.200019e+06</td>\n",
       "      <td>1.000000e+05</td>\n",
       "      <td>1.000000</td>\n",
       "      <td>0.500000</td>\n",
       "      <td>680.000000</td>\n",
       "      <td>5.720000e+02</td>\n",
       "      <td>1.000000</td>\n",
       "      <td>0.000000</td>\n",
       "      <td>0.000000</td>\n",
       "      <td>1.000000</td>\n",
       "      <td>...</td>\n",
       "      <td>480.000000</td>\n",
       "      <td>10.000000</td>\n",
       "      <td>1900.000000</td>\n",
       "      <td>98001.000000</td>\n",
       "      <td>47.17750</td>\n",
       "      <td>-122.514000</td>\n",
       "      <td>460.000000</td>\n",
       "      <td>651.000000</td>\n",
       "      <td>2014.000000</td>\n",
       "      <td>1.000000</td>\n",
       "    </tr>\n",
       "    <tr>\n",
       "      <th>25%</th>\n",
       "      <td>2.141308e+09</td>\n",
       "      <td>3.750000e+05</td>\n",
       "      <td>3.000000</td>\n",
       "      <td>1.750000</td>\n",
       "      <td>1680.000000</td>\n",
       "      <td>5.000000e+03</td>\n",
       "      <td>1.000000</td>\n",
       "      <td>0.000000</td>\n",
       "      <td>0.000000</td>\n",
       "      <td>3.000000</td>\n",
       "      <td>...</td>\n",
       "      <td>1120.000000</td>\n",
       "      <td>450.000000</td>\n",
       "      <td>1947.000000</td>\n",
       "      <td>98034.000000</td>\n",
       "      <td>47.52200</td>\n",
       "      <td>-122.351000</td>\n",
       "      <td>1560.000000</td>\n",
       "      <td>5000.000000</td>\n",
       "      <td>2014.000000</td>\n",
       "      <td>4.000000</td>\n",
       "    </tr>\n",
       "    <tr>\n",
       "      <th>50%</th>\n",
       "      <td>3.947900e+09</td>\n",
       "      <td>5.150000e+05</td>\n",
       "      <td>3.000000</td>\n",
       "      <td>2.250000</td>\n",
       "      <td>2100.000000</td>\n",
       "      <td>7.560000e+03</td>\n",
       "      <td>1.000000</td>\n",
       "      <td>0.000000</td>\n",
       "      <td>0.000000</td>\n",
       "      <td>3.000000</td>\n",
       "      <td>...</td>\n",
       "      <td>1370.000000</td>\n",
       "      <td>700.000000</td>\n",
       "      <td>1966.000000</td>\n",
       "      <td>98105.000000</td>\n",
       "      <td>47.59760</td>\n",
       "      <td>-122.288000</td>\n",
       "      <td>1880.000000</td>\n",
       "      <td>7560.000000</td>\n",
       "      <td>2014.000000</td>\n",
       "      <td>6.000000</td>\n",
       "    </tr>\n",
       "    <tr>\n",
       "      <th>75%</th>\n",
       "      <td>7.314275e+09</td>\n",
       "      <td>7.120000e+05</td>\n",
       "      <td>4.000000</td>\n",
       "      <td>2.750000</td>\n",
       "      <td>2710.000000</td>\n",
       "      <td>1.071025e+04</td>\n",
       "      <td>2.000000</td>\n",
       "      <td>0.000000</td>\n",
       "      <td>0.000000</td>\n",
       "      <td>4.000000</td>\n",
       "      <td>...</td>\n",
       "      <td>1780.000000</td>\n",
       "      <td>980.000000</td>\n",
       "      <td>1983.000000</td>\n",
       "      <td>98125.000000</td>\n",
       "      <td>47.67960</td>\n",
       "      <td>-122.179750</td>\n",
       "      <td>2330.000000</td>\n",
       "      <td>10016.500000</td>\n",
       "      <td>2015.000000</td>\n",
       "      <td>9.000000</td>\n",
       "    </tr>\n",
       "    <tr>\n",
       "      <th>max</th>\n",
       "      <td>9.900000e+09</td>\n",
       "      <td>7.700000e+06</td>\n",
       "      <td>11.000000</td>\n",
       "      <td>8.000000</td>\n",
       "      <td>13540.000000</td>\n",
       "      <td>1.074218e+06</td>\n",
       "      <td>3.500000</td>\n",
       "      <td>1.000000</td>\n",
       "      <td>4.000000</td>\n",
       "      <td>5.000000</td>\n",
       "      <td>...</td>\n",
       "      <td>9410.000000</td>\n",
       "      <td>4820.000000</td>\n",
       "      <td>2015.000000</td>\n",
       "      <td>98199.000000</td>\n",
       "      <td>47.77760</td>\n",
       "      <td>-121.321000</td>\n",
       "      <td>6110.000000</td>\n",
       "      <td>871200.000000</td>\n",
       "      <td>2015.000000</td>\n",
       "      <td>12.000000</td>\n",
       "    </tr>\n",
       "  </tbody>\n",
       "</table>\n",
       "<p>8 rows × 21 columns</p>\n",
       "</div>"
      ],
      "text/plain": [
       "                 id         price     bedrooms    bathrooms   sqft_living  \\\n",
       "count  8.284000e+03  8.284000e+03  8283.000000  8284.000000   8284.000000   \n",
       "mean   4.594949e+09  6.222646e+05     3.554630     2.271065   2312.629406   \n",
       "std    2.873921e+09  4.409331e+05     0.956683     0.776049    951.507491   \n",
       "min    1.200019e+06  1.000000e+05     1.000000     0.500000    680.000000   \n",
       "25%    2.141308e+09  3.750000e+05     3.000000     1.750000   1680.000000   \n",
       "50%    3.947900e+09  5.150000e+05     3.000000     2.250000   2100.000000   \n",
       "75%    7.314275e+09  7.120000e+05     4.000000     2.750000   2710.000000   \n",
       "max    9.900000e+09  7.700000e+06    11.000000     8.000000  13540.000000   \n",
       "\n",
       "           sqft_lot       floors   waterfront         view    condition  \\\n",
       "count  8.284000e+03  8284.000000  8284.000000  8284.000000  8284.000000   \n",
       "mean   1.326375e+04     1.321704     0.010744     0.405722     3.516659   \n",
       "std    3.288693e+04     0.476245     0.103099     0.979530     0.697238   \n",
       "min    5.720000e+02     1.000000     0.000000     0.000000     1.000000   \n",
       "25%    5.000000e+03     1.000000     0.000000     0.000000     3.000000   \n",
       "50%    7.560000e+03     1.000000     0.000000     0.000000     3.000000   \n",
       "75%    1.071025e+04     2.000000     0.000000     0.000000     4.000000   \n",
       "max    1.074218e+06     3.500000     1.000000     4.000000     5.000000   \n",
       "\n",
       "          ...        sqft_above  sqft_basement     yr_built       zipcode  \\\n",
       "count     ...       8284.000000    8284.000000  8284.000000   8284.000000   \n",
       "mean      ...       1571.145703     741.483704  1964.919363  98088.754587   \n",
       "std       ...        719.964305     404.273916    28.352062     55.694387   \n",
       "min       ...        480.000000      10.000000  1900.000000  98001.000000   \n",
       "25%       ...       1120.000000     450.000000  1947.000000  98034.000000   \n",
       "50%       ...       1370.000000     700.000000  1966.000000  98105.000000   \n",
       "75%       ...       1780.000000     980.000000  1983.000000  98125.000000   \n",
       "max       ...       9410.000000    4820.000000  2015.000000  98199.000000   \n",
       "\n",
       "              lat         long  sqft_living15     sqft_lot15     dateyear  \\\n",
       "count  8284.00000  8284.000000    8284.000000    8284.000000  8284.000000   \n",
       "mean     47.58411  -122.255394    2024.377233   11311.890512  2014.318928   \n",
       "std       0.12227     0.118839     663.004275   23330.515318     0.466089   \n",
       "min      47.17750  -122.514000     460.000000     651.000000  2014.000000   \n",
       "25%      47.52200  -122.351000    1560.000000    5000.000000  2014.000000   \n",
       "50%      47.59760  -122.288000    1880.000000    7560.000000  2014.000000   \n",
       "75%      47.67960  -122.179750    2330.000000   10016.500000  2015.000000   \n",
       "max      47.77760  -121.321000    6110.000000  871200.000000  2015.000000   \n",
       "\n",
       "        date_month  \n",
       "count  8284.000000  \n",
       "mean      6.600555  \n",
       "std       3.103573  \n",
       "min       1.000000  \n",
       "25%       4.000000  \n",
       "50%       6.000000  \n",
       "75%       9.000000  \n",
       "max      12.000000  \n",
       "\n",
       "[8 rows x 21 columns]"
      ]
     },
     "execution_count": 28,
     "metadata": {},
     "output_type": "execute_result"
    }
   ],
   "source": [
    "# I will remove 33 in the bedrooms column given that it is an outlier. I will use the idxmax() method  \n",
    "df['bedrooms'] = df['bedrooms'].drop(df['bedrooms'].idxmax())\n",
    "df.describe()"
   ]
  },
  {
   "cell_type": "markdown",
   "metadata": {},
   "source": [
    "### Handling Categorical Variables"
   ]
  },
  {
   "cell_type": "markdown",
   "metadata": {},
   "source": [
    "##### Here are all the categorical features which we will convert to dummy variables either bind them or use the one-hot-encoding.\n",
    "    * view\n",
    "    * condition\n",
    "    * grade\n",
    "    * yr_built \n",
    "    * zipcode\n",
    "    * date_month\n"
   ]
  },
  {
   "cell_type": "markdown",
   "metadata": {},
   "source": [
    "##### Zipcode"
   ]
  },
  {
   "cell_type": "code",
   "execution_count": 29,
   "metadata": {},
   "outputs": [],
   "source": [
    "# I will group the zipcodes and check their mean so that I could see if there is any pattern of the prices \n",
    "GB_ZC = df.groupby(['zipcode'])['price'].mean()"
   ]
  },
  {
   "cell_type": "code",
   "execution_count": 30,
   "metadata": {},
   "outputs": [
    {
     "data": {
      "image/png": "[encoded data removed]",
      "text/plain": [
       "<Figure size 1440x1440 with 1 Axes>"
      ]
     },
     "metadata": {
      "needs_background": "light"
     },
     "output_type": "display_data"
    }
   ],
   "source": [
    "# Let's view the data with a sorted value\n",
    "GB_ZC = GB_ZC.sort_values()\n",
    "GB_ZC.plot(kind='bar',x='zipcode',y='price',align='center', alpha=0.5,figsize=(20,20))\n",
    "# the plot gets saved to 'output.png'\n",
    "plt.savefig('output.png')\n",
    "plt.title('Price according to Zipcode' )\n",
    "plt.xlabel('Zipcode')\n",
    "plt.ylabel('Prices')\n",
    "plt.show()"
   ]
  },
  {
   "cell_type": "markdown",
   "metadata": {},
   "source": [
    "#### The zipcode variable/column is not a great predictor given the large number of categories(i.e # of Zipcode).\n",
    "#### It could potentially help predicting 3 tiers of a range of prices but given that it will not be very precise, I will drop that column. "
   ]
  },
  {
   "cell_type": "code",
   "execution_count": 31,
   "metadata": {},
   "outputs": [],
   "source": [
    "df.drop(['zipcode'], axis =1, inplace=True)"
   ]
  },
  {
   "cell_type": "markdown",
   "metadata": {},
   "source": [
    "#### Waterfront"
   ]
  },
  {
   "cell_type": "code",
   "execution_count": 32,
   "metadata": {},
   "outputs": [
    {
     "data": {
      "image/png": "[encoded data removed]",
      "text/plain": [
       "<Figure size 864x288 with 1 Axes>"
      ]
     },
     "metadata": {
      "needs_background": "light"
     },
     "output_type": "display_data"
    },
    {
     "name": "stdout",
     "output_type": "stream",
     "text": [
      "point biserial correlation r is 0.29618154233642374 with p = 2.2622028042666543e-167\n"
     ]
    }
   ],
   "source": [
    "# We would need to visualize the data to clearly see where the data rests. Let's use boxplot to visualize waterfront:\n",
    "from scipy import stats, linalg\n",
    "\n",
    "fig, ax = plt.subplots(figsize=(12,4))\n",
    "\n",
    "sns.boxplot(y = df['waterfront'], x = df['price'],width = 0.8,orient = 'h', showmeans = True, fliersize = 3, ax = ax)\n",
    "plt.title('With or Without Waterfront')\n",
    "plt.show()\n",
    "\n",
    "# Calculate the correlation coefficient\n",
    "r, p = stats.pointbiserialr(df['waterfront'], df['price'])\n",
    "print ('point biserial correlation r is %s with p = %s' %(r,p))\n"
   ]
  },
  {
   "cell_type": "markdown",
   "metadata": {},
   "source": [
    "#### We can see that the range of prices for most houses with waterfront are wider. Whereas the houses without waterfront are mostly concentrated but go as high as the ones with a waterfront. Additionally,  without waterfront there aren't as many outliers.\n"
   ]
  },
  {
   "cell_type": "code",
   "execution_count": 33,
   "metadata": {},
   "outputs": [
    {
     "data": {
      "text/plain": [
       "count    8284.000000\n",
       "mean     1964.919363\n",
       "std        28.352062\n",
       "min      1900.000000\n",
       "25%      1947.000000\n",
       "50%      1966.000000\n",
       "75%      1983.000000\n",
       "max      2015.000000\n",
       "Name: yr_built, dtype: float64"
      ]
     },
     "execution_count": 33,
     "metadata": {},
     "output_type": "execute_result"
    }
   ],
   "source": [
    "# Let's check yr_built stats and asses the virable. \n",
    "df.yr_built.describe()\n",
    "\n"
   ]
  },
  {
   "cell_type": "code",
   "execution_count": 34,
   "metadata": {},
   "outputs": [],
   "source": [
    "# Here are the  bins  based on the values observed above. 5 values will result in 4 bins\n",
    "\n",
    "bins = [0, 1952, 1975, 1990, 1997, 2015]\n",
    "\n",
    "#We'll pd.cut method to separate data into bins.\n",
    "bins_yr_built = pd.cut(df['yr_built'], bins)\n",
    "\n",
    "#We'll use .cat.as_unordered() method transforming the data to ordered categories.\n",
    "bins_yr_built = bins_yr_built.cat.as_unordered()\n",
    "#bins_yr_built.head()\n"
   ]
  },
  {
   "cell_type": "code",
   "execution_count": 35,
   "metadata": {},
   "outputs": [
    {
     "data": {
      "image/png": "[encoded data removed]",
      "text/plain": [
       "<Figure size 432x288 with 1 Axes>"
      ]
     },
     "metadata": {
      "needs_background": "light"
     },
     "output_type": "display_data"
    }
   ],
   "source": [
    "#Let's visualize the bins\n",
    "bins_yr_built.value_counts().plot(kind='bar')\n",
    "plt.xlabel('Range of years')\n",
    "plt.ylabel('Prices')\n",
    "plt.title('Year Built')\n",
    "plt.legend()\n",
    "plt.show()\n"
   ]
  },
  {
   "cell_type": "code",
   "execution_count": 36,
   "metadata": {},
   "outputs": [],
   "source": [
    "# Let's add the binds_yr_ built to a new column of our data.\n",
    "df['bins_yr_built'] = bins_yr_built \n"
   ]
  },
  {
   "cell_type": "markdown",
   "metadata": {},
   "source": [
    "#### Converting the categorical variables to dummy variables "
   ]
  },
  {
   "cell_type": "code",
   "execution_count": 37,
   "metadata": {},
   "outputs": [],
   "source": [
    "# Here we are converting the categorical variables into dummy variables so that it will allow us to build a model later on. \n",
    "WF_dummies = pd.get_dummies(df[\"waterfront\"], prefix=\"WV\")\n",
    "View_dummies = pd.get_dummies(df[\"view\"], prefix=\"View\")\n",
    "Con_dummies = pd.get_dummies(df[\"condition\"], prefix=\"Con\")\n",
    "Grade_dummies = pd.get_dummies(df[\"grade\"], prefix=\"Grade\")\n",
    "Month_dummies = pd.get_dummies(df[\"date_month\"], prefix=\"Month\")\n",
    "bins_yr_built_dummies = pd.get_dummies(df[\"bins_yr_built\"], prefix=\"bins_yr_built\")\n",
    "\n"
   ]
  },
  {
   "cell_type": "code",
   "execution_count": 38,
   "metadata": {},
   "outputs": [
    {
     "data": {
      "text/html": [
       "<div>\n",
       "<style scoped>\n",
       "    .dataframe tbody tr th:only-of-type {\n",
       "        vertical-align: middle;\n",
       "    }\n",
       "\n",
       "    .dataframe tbody tr th {\n",
       "        vertical-align: top;\n",
       "    }\n",
       "\n",
       "    .dataframe thead th {\n",
       "        text-align: right;\n",
       "    }\n",
       "</style>\n",
       "<table border=\"1\" class=\"dataframe\">\n",
       "  <thead>\n",
       "    <tr style=\"text-align: right;\">\n",
       "      <th></th>\n",
       "      <th>id</th>\n",
       "      <th>date</th>\n",
       "      <th>price</th>\n",
       "      <th>bedrooms</th>\n",
       "      <th>bathrooms</th>\n",
       "      <th>sqft_living</th>\n",
       "      <th>sqft_lot</th>\n",
       "      <th>floors</th>\n",
       "      <th>waterfront</th>\n",
       "      <th>view</th>\n",
       "      <th>...</th>\n",
       "      <th>Month_4</th>\n",
       "      <th>Month_5</th>\n",
       "      <th>Month_6</th>\n",
       "      <th>Month_7</th>\n",
       "      <th>Month_8</th>\n",
       "      <th>Month_9</th>\n",
       "      <th>Month_10</th>\n",
       "      <th>Month_11</th>\n",
       "      <th>Month_12</th>\n",
       "      <th>yr_built</th>\n",
       "    </tr>\n",
       "  </thead>\n",
       "  <tbody>\n",
       "    <tr>\n",
       "      <th>1</th>\n",
       "      <td>6414100192</td>\n",
       "      <td>2014-12-09</td>\n",
       "      <td>538000</td>\n",
       "      <td>3.0</td>\n",
       "      <td>2.25</td>\n",
       "      <td>2570</td>\n",
       "      <td>7242</td>\n",
       "      <td>2.0</td>\n",
       "      <td>0.0</td>\n",
       "      <td>0.0</td>\n",
       "      <td>...</td>\n",
       "      <td>0</td>\n",
       "      <td>0</td>\n",
       "      <td>0</td>\n",
       "      <td>0</td>\n",
       "      <td>0</td>\n",
       "      <td>0</td>\n",
       "      <td>0</td>\n",
       "      <td>0</td>\n",
       "      <td>1</td>\n",
       "      <td>(0, 1952]</td>\n",
       "    </tr>\n",
       "    <tr>\n",
       "      <th>3</th>\n",
       "      <td>2487200875</td>\n",
       "      <td>2014-12-09</td>\n",
       "      <td>604000</td>\n",
       "      <td>4.0</td>\n",
       "      <td>3.00</td>\n",
       "      <td>1960</td>\n",
       "      <td>5000</td>\n",
       "      <td>1.0</td>\n",
       "      <td>0.0</td>\n",
       "      <td>0.0</td>\n",
       "      <td>...</td>\n",
       "      <td>0</td>\n",
       "      <td>0</td>\n",
       "      <td>0</td>\n",
       "      <td>0</td>\n",
       "      <td>0</td>\n",
       "      <td>0</td>\n",
       "      <td>0</td>\n",
       "      <td>0</td>\n",
       "      <td>1</td>\n",
       "      <td>(1952, 1975]</td>\n",
       "    </tr>\n",
       "    <tr>\n",
       "      <th>5</th>\n",
       "      <td>7237550310</td>\n",
       "      <td>2014-05-12</td>\n",
       "      <td>1230000</td>\n",
       "      <td>4.0</td>\n",
       "      <td>4.50</td>\n",
       "      <td>5420</td>\n",
       "      <td>101930</td>\n",
       "      <td>1.0</td>\n",
       "      <td>0.0</td>\n",
       "      <td>0.0</td>\n",
       "      <td>...</td>\n",
       "      <td>0</td>\n",
       "      <td>1</td>\n",
       "      <td>0</td>\n",
       "      <td>0</td>\n",
       "      <td>0</td>\n",
       "      <td>0</td>\n",
       "      <td>0</td>\n",
       "      <td>0</td>\n",
       "      <td>0</td>\n",
       "      <td>(1997, 2015]</td>\n",
       "    </tr>\n",
       "    <tr>\n",
       "      <th>8</th>\n",
       "      <td>2414600126</td>\n",
       "      <td>2015-04-15</td>\n",
       "      <td>229500</td>\n",
       "      <td>3.0</td>\n",
       "      <td>1.00</td>\n",
       "      <td>1780</td>\n",
       "      <td>7470</td>\n",
       "      <td>1.0</td>\n",
       "      <td>0.0</td>\n",
       "      <td>0.0</td>\n",
       "      <td>...</td>\n",
       "      <td>1</td>\n",
       "      <td>0</td>\n",
       "      <td>0</td>\n",
       "      <td>0</td>\n",
       "      <td>0</td>\n",
       "      <td>0</td>\n",
       "      <td>0</td>\n",
       "      <td>0</td>\n",
       "      <td>0</td>\n",
       "      <td>(1952, 1975]</td>\n",
       "    </tr>\n",
       "    <tr>\n",
       "      <th>10</th>\n",
       "      <td>1736800520</td>\n",
       "      <td>2015-04-03</td>\n",
       "      <td>662500</td>\n",
       "      <td>3.0</td>\n",
       "      <td>2.50</td>\n",
       "      <td>3560</td>\n",
       "      <td>9796</td>\n",
       "      <td>1.0</td>\n",
       "      <td>0.0</td>\n",
       "      <td>0.0</td>\n",
       "      <td>...</td>\n",
       "      <td>1</td>\n",
       "      <td>0</td>\n",
       "      <td>0</td>\n",
       "      <td>0</td>\n",
       "      <td>0</td>\n",
       "      <td>0</td>\n",
       "      <td>0</td>\n",
       "      <td>0</td>\n",
       "      <td>0</td>\n",
       "      <td>(1952, 1975]</td>\n",
       "    </tr>\n",
       "  </tbody>\n",
       "</table>\n",
       "<p>5 rows × 57 columns</p>\n",
       "</div>"
      ],
      "text/plain": [
       "            id       date    price  bedrooms  bathrooms  sqft_living  \\\n",
       "1   6414100192 2014-12-09   538000       3.0       2.25         2570   \n",
       "3   2487200875 2014-12-09   604000       4.0       3.00         1960   \n",
       "5   7237550310 2014-05-12  1230000       4.0       4.50         5420   \n",
       "8   2414600126 2015-04-15   229500       3.0       1.00         1780   \n",
       "10  1736800520 2015-04-03   662500       3.0       2.50         3560   \n",
       "\n",
       "    sqft_lot  floors  waterfront  view      ...       Month_4  Month_5  \\\n",
       "1       7242     2.0         0.0   0.0      ...             0        0   \n",
       "3       5000     1.0         0.0   0.0      ...             0        0   \n",
       "5     101930     1.0         0.0   0.0      ...             0        1   \n",
       "8       7470     1.0         0.0   0.0      ...             1        0   \n",
       "10      9796     1.0         0.0   0.0      ...             1        0   \n",
       "\n",
       "    Month_6  Month_7  Month_8  Month_9  Month_10  Month_11  Month_12  \\\n",
       "1         0        0        0        0         0         0         1   \n",
       "3         0        0        0        0         0         0         1   \n",
       "5         0        0        0        0         0         0         0   \n",
       "8         0        0        0        0         0         0         0   \n",
       "10        0        0        0        0         0         0         0   \n",
       "\n",
       "        yr_built  \n",
       "1      (0, 1952]  \n",
       "3   (1952, 1975]  \n",
       "5   (1997, 2015]  \n",
       "8   (1952, 1975]  \n",
       "10  (1952, 1975]  \n",
       "\n",
       "[5 rows x 57 columns]"
      ]
     },
     "execution_count": 38,
     "metadata": {},
     "output_type": "execute_result"
    }
   ],
   "source": [
    "# Add the new dummy variables to the data frame\n",
    "df = pd.concat([df, WF_dummies , View_dummies, Con_dummies,Grade_dummies, Month_dummies, bins_yr_built], axis=1)\n",
    "\n",
    "df.head()\n"
   ]
  },
  {
   "cell_type": "markdown",
   "metadata": {},
   "source": [
    "####  Let's drop the categorical values as we have transformed all the categorical values to either dummy  or binned ones\n"
   ]
  },
  {
   "cell_type": "code",
   "execution_count": 39,
   "metadata": {},
   "outputs": [],
   "source": [
    "df.drop(['waterfront','view','condition','grade','date_month','yr_built', 'bins_yr_built'], axis =1, inplace=True)\n",
    "\n",
    "\n"
   ]
  },
  {
   "cell_type": "markdown",
   "metadata": {},
   "source": [
    "#### Let's run info again to double check that I have removed all the old categoricl values. "
   ]
  },
  {
   "cell_type": "code",
   "execution_count": 40,
   "metadata": {},
   "outputs": [
    {
     "name": "stdout",
     "output_type": "stream",
     "text": [
      "<class 'pandas.core.frame.DataFrame'>\n",
      "Int64Index: 8284 entries, 1 to 21591\n",
      "Data columns (total 49 columns):\n",
      "id               8284 non-null int64\n",
      "date             8284 non-null datetime64[ns]\n",
      "price            8284 non-null int64\n",
      "bedrooms         8283 non-null float64\n",
      "bathrooms        8284 non-null float64\n",
      "sqft_living      8284 non-null int64\n",
      "sqft_lot         8284 non-null int64\n",
      "floors           8284 non-null float64\n",
      "sqft_above       8284 non-null int64\n",
      "sqft_basement    8284 non-null int64\n",
      "lat              8284 non-null float64\n",
      "long             8284 non-null float64\n",
      "sqft_living15    8284 non-null int64\n",
      "sqft_lot15       8284 non-null int64\n",
      "dateyear         8284 non-null int64\n",
      "WV_0.0           8284 non-null uint8\n",
      "WV_1.0           8284 non-null uint8\n",
      "View_0.0         8284 non-null uint8\n",
      "View_1.0         8284 non-null uint8\n",
      "View_2.0         8284 non-null uint8\n",
      "View_3.0         8284 non-null uint8\n",
      "View_4.0         8284 non-null uint8\n",
      "Con_1            8284 non-null uint8\n",
      "Con_2            8284 non-null uint8\n",
      "Con_3            8284 non-null uint8\n",
      "Con_4            8284 non-null uint8\n",
      "Con_5            8284 non-null uint8\n",
      "Grade_4          8284 non-null uint8\n",
      "Grade_5          8284 non-null uint8\n",
      "Grade_6          8284 non-null uint8\n",
      "Grade_7          8284 non-null uint8\n",
      "Grade_8          8284 non-null uint8\n",
      "Grade_9          8284 non-null uint8\n",
      "Grade_10         8284 non-null uint8\n",
      "Grade_11         8284 non-null uint8\n",
      "Grade_12         8284 non-null uint8\n",
      "Grade_13         8284 non-null uint8\n",
      "Month_1          8284 non-null uint8\n",
      "Month_2          8284 non-null uint8\n",
      "Month_3          8284 non-null uint8\n",
      "Month_4          8284 non-null uint8\n",
      "Month_5          8284 non-null uint8\n",
      "Month_6          8284 non-null uint8\n",
      "Month_7          8284 non-null uint8\n",
      "Month_8          8284 non-null uint8\n",
      "Month_9          8284 non-null uint8\n",
      "Month_10         8284 non-null uint8\n",
      "Month_11         8284 non-null uint8\n",
      "Month_12         8284 non-null uint8\n",
      "dtypes: datetime64[ns](1), float64(5), int64(9), uint8(34)\n",
      "memory usage: 1.6 MB\n"
     ]
    }
   ],
   "source": [
    "df.info()"
   ]
  },
  {
   "cell_type": "markdown",
   "metadata": {},
   "source": [
    "## Exploring:"
   ]
  },
  {
   "cell_type": "markdown",
   "metadata": {},
   "source": [
    "#### Let's visualize the continues variables of our data and check for any patterns. Specifically, detect any linear relationships "
   ]
  },
  {
   "cell_type": "code",
   "execution_count": 41,
   "metadata": {},
   "outputs": [
    {
     "name": "stderr",
     "output_type": "stream",
     "text": [
      "/Users/nataliagoncharov/anaconda3/lib/python3.7/site-packages/matplotlib/axes/_axes.py:6571: UserWarning: The 'normed' kwarg is deprecated, and has been replaced by the 'density' kwarg.\n",
      "  warnings.warn(\"The 'normed' kwarg is deprecated, and has been \"\n"
     ]
    },
    {
     "data": {
      "image/png": "[encoded data removed]",
      "text/plain": [
       "<Figure size 432x288 with 1 Axes>"
      ]
     },
     "metadata": {
      "needs_background": "light"
     },
     "output_type": "display_data"
    },
    {
     "name": "stderr",
     "output_type": "stream",
     "text": [
      "/Users/nataliagoncharov/anaconda3/lib/python3.7/site-packages/matplotlib/axes/_axes.py:6571: UserWarning: The 'normed' kwarg is deprecated, and has been replaced by the 'density' kwarg.\n",
      "  warnings.warn(\"The 'normed' kwarg is deprecated, and has been \"\n"
     ]
    },
    {
     "data": {
      "image/png": "[encoded data removed]",
      "text/plain": [
       "<Figure size 432x288 with 1 Axes>"
      ]
     },
     "metadata": {
      "needs_background": "light"
     },
     "output_type": "display_data"
    },
    {
     "name": "stderr",
     "output_type": "stream",
     "text": [
      "/Users/nataliagoncharov/anaconda3/lib/python3.7/site-packages/matplotlib/axes/_axes.py:6571: UserWarning: The 'normed' kwarg is deprecated, and has been replaced by the 'density' kwarg.\n",
      "  warnings.warn(\"The 'normed' kwarg is deprecated, and has been \"\n"
     ]
    },
    {
     "data": {
      "image/png": "[encoded data removed]",
      "text/plain": [
       "<Figure size 432x288 with 1 Axes>"
      ]
     },
     "metadata": {
      "needs_background": "light"
     },
     "output_type": "display_data"
    },
    {
     "name": "stderr",
     "output_type": "stream",
     "text": [
      "/Users/nataliagoncharov/anaconda3/lib/python3.7/site-packages/matplotlib/axes/_axes.py:6571: UserWarning: The 'normed' kwarg is deprecated, and has been replaced by the 'density' kwarg.\n",
      "  warnings.warn(\"The 'normed' kwarg is deprecated, and has been \"\n"
     ]
    },
    {
     "data": {
      "image/png": "[encoded data removed]",
      "text/plain": [
       "<Figure size 432x288 with 1 Axes>"
      ]
     },
     "metadata": {
      "needs_background": "light"
     },
     "output_type": "display_data"
    },
    {
     "name": "stderr",
     "output_type": "stream",
     "text": [
      "/Users/nataliagoncharov/anaconda3/lib/python3.7/site-packages/matplotlib/axes/_axes.py:6571: UserWarning: The 'normed' kwarg is deprecated, and has been replaced by the 'density' kwarg.\n",
      "  warnings.warn(\"The 'normed' kwarg is deprecated, and has been \"\n"
     ]
    },
    {
     "data": {
      "image/png": "[encoded data removed]",
      "text/plain": [
       "<Figure size 432x288 with 1 Axes>"
      ]
     },
     "metadata": {
      "needs_background": "light"
     },
     "output_type": "display_data"
    },
    {
     "name": "stderr",
     "output_type": "stream",
     "text": [
      "/Users/nataliagoncharov/anaconda3/lib/python3.7/site-packages/matplotlib/axes/_axes.py:6571: UserWarning: The 'normed' kwarg is deprecated, and has been replaced by the 'density' kwarg.\n",
      "  warnings.warn(\"The 'normed' kwarg is deprecated, and has been \"\n"
     ]
    },
    {
     "data": {
      "image/png": "[encoded data removed]",
      "text/plain": [
       "<Figure size 432x288 with 1 Axes>"
      ]
     },
     "metadata": {
      "needs_background": "light"
     },
     "output_type": "display_data"
    }
   ],
   "source": [
    "# We run a for loop function to build histogram and density estimate plot. \n",
    "for column in ['price', 'sqft_living', 'bathrooms', 'bedrooms', 'sqft_lot', 'sqft_above']:\n",
    "    df[column].plot.hist(normed=True)\n",
    "    df[column].plot.kde(label=column )\n",
    "    plt.legend()\n",
    "    plt.show()\n",
    "    "
   ]
  },
  {
   "cell_type": "code",
   "execution_count": 42,
   "metadata": {},
   "outputs": [
    {
     "name": "stderr",
     "output_type": "stream",
     "text": [
      "/Users/nataliagoncharov/anaconda3/lib/python3.7/site-packages/scipy/stats/stats.py:1713: FutureWarning: Using a non-tuple sequence for multidimensional indexing is deprecated; use `arr[tuple(seq)]` instead of `arr[seq]`. In the future this will be interpreted as an array index, `arr[np.array(seq)]`, which will result either in an error or a different result.\n",
      "  return np.add.reduce(sorted[indexer] * weights, axis=axis) / sumval\n"
     ]
    },
    {
     "data": {
      "image/png": "[encoded data removed]",
      "text/plain": [
       "<Figure size 432x432 with 3 Axes>"
      ]
     },
     "metadata": {
      "needs_background": "light"
     },
     "output_type": "display_data"
    },
    {
     "data": {
      "image/png": "[encoded data removed]",
      "text/plain": [
       "<Figure size 432x432 with 3 Axes>"
      ]
     },
     "metadata": {
      "needs_background": "light"
     },
     "output_type": "display_data"
    },
    {
     "data": {
      "image/png": "[encoded data removed]",
      "text/plain": [
       "<Figure size 432x432 with 3 Axes>"
      ]
     },
     "metadata": {
      "needs_background": "light"
     },
     "output_type": "display_data"
    },
    {
     "data": {
      "image/png": "[encoded data removed]",
      "text/plain": [
       "<Figure size 432x432 with 3 Axes>"
      ]
     },
     "metadata": {
      "needs_background": "light"
     },
     "output_type": "display_data"
    },
    {
     "data": {
      "image/png": "[encoded data removed]",
      "text/plain": [
       "<Figure size 432x432 with 3 Axes>"
      ]
     },
     "metadata": {
      "needs_background": "light"
     },
     "output_type": "display_data"
    }
   ],
   "source": [
    "for column in [ 'sqft_living', 'bathrooms', 'bedrooms', 'sqft_lot', 'sqft_above']:\n",
    "    sns.jointplot(x=column, y=\"price\",\n",
    "                  data=df, \n",
    "                  kind='reg', \n",
    "                  label=column,\n",
    "                  joint_kws={'line_kws':{'color':'green'}})\n",
    "    plt.legend()\n",
    "    plt.show()\n",
    "    \n",
    "    "
   ]
  },
  {
   "cell_type": "markdown",
   "metadata": {},
   "source": [
    "#### The above variables show a linear relationship to price, especially we see a strong linear relationship with 'sqft_living', 'bathrooms', 'sqft_above' to ‘price’. "
   ]
  },
  {
   "cell_type": "markdown",
   "metadata": {},
   "source": [
    "## Normalizing some of the data "
   ]
  },
  {
   "cell_type": "markdown",
   "metadata": {},
   "source": [
    "#### According to our graphs above it appears that the following variables need to be normalized.  sqft_lot, bedrooms, and bathrooms."
   ]
  },
  {
   "cell_type": "code",
   "execution_count": 43,
   "metadata": {},
   "outputs": [
    {
     "data": {
      "text/html": [
       "<div>\n",
       "<style scoped>\n",
       "    .dataframe tbody tr th:only-of-type {\n",
       "        vertical-align: middle;\n",
       "    }\n",
       "\n",
       "    .dataframe tbody tr th {\n",
       "        vertical-align: top;\n",
       "    }\n",
       "\n",
       "    .dataframe thead th {\n",
       "        text-align: right;\n",
       "    }\n",
       "</style>\n",
       "<table border=\"1\" class=\"dataframe\">\n",
       "  <thead>\n",
       "    <tr style=\"text-align: right;\">\n",
       "      <th></th>\n",
       "      <th>sqft_lot</th>\n",
       "      <th>bedrooms</th>\n",
       "      <th>bathrooms</th>\n",
       "    </tr>\n",
       "  </thead>\n",
       "  <tbody>\n",
       "    <tr>\n",
       "      <th>count</th>\n",
       "      <td>8284.000000</td>\n",
       "      <td>8283.000000</td>\n",
       "      <td>8284.000000</td>\n",
       "    </tr>\n",
       "    <tr>\n",
       "      <th>mean</th>\n",
       "      <td>8.933253</td>\n",
       "      <td>1.231805</td>\n",
       "      <td>0.760128</td>\n",
       "    </tr>\n",
       "    <tr>\n",
       "      <th>std</th>\n",
       "      <td>0.885488</td>\n",
       "      <td>0.274310</td>\n",
       "      <td>0.355566</td>\n",
       "    </tr>\n",
       "    <tr>\n",
       "      <th>min</th>\n",
       "      <td>6.349139</td>\n",
       "      <td>0.000000</td>\n",
       "      <td>-0.693147</td>\n",
       "    </tr>\n",
       "    <tr>\n",
       "      <th>25%</th>\n",
       "      <td>8.517193</td>\n",
       "      <td>1.098612</td>\n",
       "      <td>0.559616</td>\n",
       "    </tr>\n",
       "    <tr>\n",
       "      <th>50%</th>\n",
       "      <td>8.930626</td>\n",
       "      <td>1.098612</td>\n",
       "      <td>0.810930</td>\n",
       "    </tr>\n",
       "    <tr>\n",
       "      <th>75%</th>\n",
       "      <td>9.278957</td>\n",
       "      <td>1.386294</td>\n",
       "      <td>1.011601</td>\n",
       "    </tr>\n",
       "    <tr>\n",
       "      <th>max</th>\n",
       "      <td>13.887104</td>\n",
       "      <td>2.397895</td>\n",
       "      <td>2.079442</td>\n",
       "    </tr>\n",
       "  </tbody>\n",
       "</table>\n",
       "</div>"
      ],
      "text/plain": [
       "          sqft_lot     bedrooms    bathrooms\n",
       "count  8284.000000  8283.000000  8284.000000\n",
       "mean      8.933253     1.231805     0.760128\n",
       "std       0.885488     0.274310     0.355566\n",
       "min       6.349139     0.000000    -0.693147\n",
       "25%       8.517193     1.098612     0.559616\n",
       "50%       8.930626     1.098612     0.810930\n",
       "75%       9.278957     1.386294     1.011601\n",
       "max      13.887104     2.397895     2.079442"
      ]
     },
     "execution_count": 43,
     "metadata": {},
     "output_type": "execute_result"
    }
   ],
   "source": [
    "# We do not have negative values, therefore, we can perform normalization on the selected data.\n",
    "np.log(df[[\"sqft_lot\",\"bedrooms\", \"bathrooms\"]]).describe()\n"
   ]
  },
  {
   "cell_type": "code",
   "execution_count": 44,
   "metadata": {},
   "outputs": [],
   "source": [
    "df_sqft_lot_log= df['sqft_lot']\n",
    "df_sqft_lot_log= np.log(df_sqft_lot_log)"
   ]
  },
  {
   "cell_type": "code",
   "execution_count": 45,
   "metadata": {},
   "outputs": [],
   "source": [
    "df_bedrooms_log= df['bedrooms']\n",
    "df_bedrooms_log= np.log(df_bedrooms_log)"
   ]
  },
  {
   "cell_type": "code",
   "execution_count": 46,
   "metadata": {},
   "outputs": [],
   "source": [
    "df_bathrooms_log= df['bathrooms']\n",
    "df_bathrooms_log= np.log(df_bathrooms_log)"
   ]
  },
  {
   "cell_type": "markdown",
   "metadata": {},
   "source": [
    "#### Let's add the newly normalized columns into the our data frame."
   ]
  },
  {
   "cell_type": "code",
   "execution_count": 47,
   "metadata": {},
   "outputs": [],
   "source": [
    "df['df_sqft_lot_log'] = df_sqft_lot_log"
   ]
  },
  {
   "cell_type": "code",
   "execution_count": 48,
   "metadata": {},
   "outputs": [],
   "source": [
    "df['df_bedrooms_log'] = df_bedrooms_log"
   ]
  },
  {
   "cell_type": "code",
   "execution_count": 49,
   "metadata": {},
   "outputs": [],
   "source": [
    "df['df_bathrooms_log'] = df_bathrooms_log"
   ]
  },
  {
   "cell_type": "code",
   "execution_count": 50,
   "metadata": {},
   "outputs": [
    {
     "name": "stderr",
     "output_type": "stream",
     "text": [
      "/Users/nataliagoncharov/anaconda3/lib/python3.7/site-packages/matplotlib/axes/_axes.py:6571: UserWarning: The 'normed' kwarg is deprecated, and has been replaced by the 'density' kwarg.\n",
      "  warnings.warn(\"The 'normed' kwarg is deprecated, and has been \"\n"
     ]
    },
    {
     "data": {
      "image/png": "[encoded data removed]",
      "text/plain": [
       "<Figure size 432x288 with 1 Axes>"
      ]
     },
     "metadata": {
      "needs_background": "light"
     },
     "output_type": "display_data"
    },
    {
     "name": "stderr",
     "output_type": "stream",
     "text": [
      "/Users/nataliagoncharov/anaconda3/lib/python3.7/site-packages/matplotlib/axes/_axes.py:6571: UserWarning: The 'normed' kwarg is deprecated, and has been replaced by the 'density' kwarg.\n",
      "  warnings.warn(\"The 'normed' kwarg is deprecated, and has been \"\n"
     ]
    },
    {
     "data": {
      "image/png": "[encoded data removed]",
      "text/plain": [
       "<Figure size 432x288 with 1 Axes>"
      ]
     },
     "metadata": {
      "needs_background": "light"
     },
     "output_type": "display_data"
    },
    {
     "name": "stderr",
     "output_type": "stream",
     "text": [
      "/Users/nataliagoncharov/anaconda3/lib/python3.7/site-packages/matplotlib/axes/_axes.py:6571: UserWarning: The 'normed' kwarg is deprecated, and has been replaced by the 'density' kwarg.\n",
      "  warnings.warn(\"The 'normed' kwarg is deprecated, and has been \"\n"
     ]
    },
    {
     "data": {
      "image/png": "[encoded data removed]",
      "text/plain": [
       "<Figure size 432x288 with 1 Axes>"
      ]
     },
     "metadata": {
      "needs_background": "light"
     },
     "output_type": "display_data"
    }
   ],
   "source": [
    "# We are redoing the for loop to examine  the change in the transformation. \n",
    "for column in ['df_sqft_lot_log', 'df_bedrooms_log', 'df_bathrooms_log']:\n",
    "    df[column].plot.hist(normed=True)\n",
    "    df[column].plot.kde(label=column )\n",
    "    plt.legend()    \n",
    "    plt.show()"
   ]
  },
  {
   "cell_type": "markdown",
   "metadata": {},
   "source": [
    "#### Sqft_lot saw the most impact from the normalization transformation. The other variables had a slight improvement. "
   ]
  },
  {
   "cell_type": "markdown",
   "metadata": {},
   "source": [
    "##### I will keep the normelized data and remove the orignial data "
   ]
  },
  {
   "cell_type": "code",
   "execution_count": 51,
   "metadata": {},
   "outputs": [],
   "source": [
    "df.drop([ 'sqft_lot','bedrooms','bathrooms'], axis =1, inplace=True)"
   ]
  },
  {
   "cell_type": "code",
   "execution_count": 52,
   "metadata": {},
   "outputs": [
    {
     "data": {
      "text/html": [
       "<div>\n",
       "<style scoped>\n",
       "    .dataframe tbody tr th:only-of-type {\n",
       "        vertical-align: middle;\n",
       "    }\n",
       "\n",
       "    .dataframe tbody tr th {\n",
       "        vertical-align: top;\n",
       "    }\n",
       "\n",
       "    .dataframe thead th {\n",
       "        text-align: right;\n",
       "    }\n",
       "</style>\n",
       "<table border=\"1\" class=\"dataframe\">\n",
       "  <thead>\n",
       "    <tr style=\"text-align: right;\">\n",
       "      <th></th>\n",
       "      <th>id</th>\n",
       "      <th>date</th>\n",
       "      <th>price</th>\n",
       "      <th>sqft_living</th>\n",
       "      <th>floors</th>\n",
       "      <th>sqft_above</th>\n",
       "      <th>sqft_basement</th>\n",
       "      <th>lat</th>\n",
       "      <th>long</th>\n",
       "      <th>sqft_living15</th>\n",
       "      <th>...</th>\n",
       "      <th>Month_6</th>\n",
       "      <th>Month_7</th>\n",
       "      <th>Month_8</th>\n",
       "      <th>Month_9</th>\n",
       "      <th>Month_10</th>\n",
       "      <th>Month_11</th>\n",
       "      <th>Month_12</th>\n",
       "      <th>df_sqft_lot_log</th>\n",
       "      <th>df_bedrooms_log</th>\n",
       "      <th>df_bathrooms_log</th>\n",
       "    </tr>\n",
       "  </thead>\n",
       "  <tbody>\n",
       "    <tr>\n",
       "      <th>1</th>\n",
       "      <td>6414100192</td>\n",
       "      <td>2014-12-09</td>\n",
       "      <td>538000</td>\n",
       "      <td>2570</td>\n",
       "      <td>2.0</td>\n",
       "      <td>2170</td>\n",
       "      <td>400</td>\n",
       "      <td>47.7210</td>\n",
       "      <td>-122.319</td>\n",
       "      <td>1690</td>\n",
       "      <td>...</td>\n",
       "      <td>0</td>\n",
       "      <td>0</td>\n",
       "      <td>0</td>\n",
       "      <td>0</td>\n",
       "      <td>0</td>\n",
       "      <td>0</td>\n",
       "      <td>1</td>\n",
       "      <td>8.887653</td>\n",
       "      <td>1.098612</td>\n",
       "      <td>0.810930</td>\n",
       "    </tr>\n",
       "    <tr>\n",
       "      <th>3</th>\n",
       "      <td>2487200875</td>\n",
       "      <td>2014-12-09</td>\n",
       "      <td>604000</td>\n",
       "      <td>1960</td>\n",
       "      <td>1.0</td>\n",
       "      <td>1050</td>\n",
       "      <td>910</td>\n",
       "      <td>47.5208</td>\n",
       "      <td>-122.393</td>\n",
       "      <td>1360</td>\n",
       "      <td>...</td>\n",
       "      <td>0</td>\n",
       "      <td>0</td>\n",
       "      <td>0</td>\n",
       "      <td>0</td>\n",
       "      <td>0</td>\n",
       "      <td>0</td>\n",
       "      <td>1</td>\n",
       "      <td>8.517193</td>\n",
       "      <td>1.386294</td>\n",
       "      <td>1.098612</td>\n",
       "    </tr>\n",
       "    <tr>\n",
       "      <th>5</th>\n",
       "      <td>7237550310</td>\n",
       "      <td>2014-05-12</td>\n",
       "      <td>1230000</td>\n",
       "      <td>5420</td>\n",
       "      <td>1.0</td>\n",
       "      <td>3890</td>\n",
       "      <td>1530</td>\n",
       "      <td>47.6561</td>\n",
       "      <td>-122.005</td>\n",
       "      <td>4760</td>\n",
       "      <td>...</td>\n",
       "      <td>0</td>\n",
       "      <td>0</td>\n",
       "      <td>0</td>\n",
       "      <td>0</td>\n",
       "      <td>0</td>\n",
       "      <td>0</td>\n",
       "      <td>0</td>\n",
       "      <td>11.532042</td>\n",
       "      <td>1.386294</td>\n",
       "      <td>1.504077</td>\n",
       "    </tr>\n",
       "    <tr>\n",
       "      <th>8</th>\n",
       "      <td>2414600126</td>\n",
       "      <td>2015-04-15</td>\n",
       "      <td>229500</td>\n",
       "      <td>1780</td>\n",
       "      <td>1.0</td>\n",
       "      <td>1050</td>\n",
       "      <td>730</td>\n",
       "      <td>47.5123</td>\n",
       "      <td>-122.337</td>\n",
       "      <td>1780</td>\n",
       "      <td>...</td>\n",
       "      <td>0</td>\n",
       "      <td>0</td>\n",
       "      <td>0</td>\n",
       "      <td>0</td>\n",
       "      <td>0</td>\n",
       "      <td>0</td>\n",
       "      <td>0</td>\n",
       "      <td>8.918650</td>\n",
       "      <td>1.098612</td>\n",
       "      <td>0.000000</td>\n",
       "    </tr>\n",
       "    <tr>\n",
       "      <th>10</th>\n",
       "      <td>1736800520</td>\n",
       "      <td>2015-04-03</td>\n",
       "      <td>662500</td>\n",
       "      <td>3560</td>\n",
       "      <td>1.0</td>\n",
       "      <td>1860</td>\n",
       "      <td>1700</td>\n",
       "      <td>47.6007</td>\n",
       "      <td>-122.145</td>\n",
       "      <td>2210</td>\n",
       "      <td>...</td>\n",
       "      <td>0</td>\n",
       "      <td>0</td>\n",
       "      <td>0</td>\n",
       "      <td>0</td>\n",
       "      <td>0</td>\n",
       "      <td>0</td>\n",
       "      <td>0</td>\n",
       "      <td>9.189729</td>\n",
       "      <td>1.098612</td>\n",
       "      <td>0.916291</td>\n",
       "    </tr>\n",
       "  </tbody>\n",
       "</table>\n",
       "<p>5 rows × 49 columns</p>\n",
       "</div>"
      ],
      "text/plain": [
       "            id       date    price  sqft_living  floors  sqft_above  \\\n",
       "1   6414100192 2014-12-09   538000         2570     2.0        2170   \n",
       "3   2487200875 2014-12-09   604000         1960     1.0        1050   \n",
       "5   7237550310 2014-05-12  1230000         5420     1.0        3890   \n",
       "8   2414600126 2015-04-15   229500         1780     1.0        1050   \n",
       "10  1736800520 2015-04-03   662500         3560     1.0        1860   \n",
       "\n",
       "    sqft_basement      lat     long  sqft_living15        ...         Month_6  \\\n",
       "1             400  47.7210 -122.319           1690        ...               0   \n",
       "3             910  47.5208 -122.393           1360        ...               0   \n",
       "5            1530  47.6561 -122.005           4760        ...               0   \n",
       "8             730  47.5123 -122.337           1780        ...               0   \n",
       "10           1700  47.6007 -122.145           2210        ...               0   \n",
       "\n",
       "    Month_7  Month_8  Month_9  Month_10  Month_11  Month_12  df_sqft_lot_log  \\\n",
       "1         0        0        0         0         0         1         8.887653   \n",
       "3         0        0        0         0         0         1         8.517193   \n",
       "5         0        0        0         0         0         0        11.532042   \n",
       "8         0        0        0         0         0         0         8.918650   \n",
       "10        0        0        0         0         0         0         9.189729   \n",
       "\n",
       "    df_bedrooms_log  df_bathrooms_log  \n",
       "1          1.098612          0.810930  \n",
       "3          1.386294          1.098612  \n",
       "5          1.386294          1.504077  \n",
       "8          1.098612          0.000000  \n",
       "10         1.098612          0.916291  \n",
       "\n",
       "[5 rows x 49 columns]"
      ]
     },
     "execution_count": 52,
     "metadata": {},
     "output_type": "execute_result"
    }
   ],
   "source": [
    "df.head()\n",
    "\n"
   ]
  },
  {
   "cell_type": "markdown",
   "metadata": {},
   "source": [
    "### Correlation"
   ]
  },
  {
   "cell_type": "markdown",
   "metadata": {},
   "source": [
    "#### Let's check the correlation among the main variables."
   ]
  },
  {
   "cell_type": "code",
   "execution_count": 53,
   "metadata": {},
   "outputs": [],
   "source": [
    "df_final = df[['price','sqft_living','floors', 'sqft_basement','sqft_living15','sqft_lot15','sqft_above','lat','long','df_sqft_lot_log','df_bedrooms_log','df_bathrooms_log']]"
   ]
  },
  {
   "cell_type": "code",
   "execution_count": 54,
   "metadata": {},
   "outputs": [
    {
     "data": {
      "text/plain": [
       "<matplotlib.axes._subplots.AxesSubplot at 0x1c17b35cc0>"
      ]
     },
     "execution_count": 54,
     "metadata": {},
     "output_type": "execute_result"
    },
    {
     "data": {
      "image/png": "[encoded data removed]",
      "text/plain": [
       "<Figure size 792x648 with 2 Axes>"
      ]
     },
     "metadata": {},
     "output_type": "display_data"
    }
   ],
   "source": [
    "# We will use the sns heatmap code to build the corr. matrix. At times, it is easier to see only half \n",
    "# of it given that the other half would have been the mirror image and therefore redudant (e.g.  linewidths=.5).\n",
    "\n",
    "sns.set(style=\"white\")\n",
    "\n",
    "corr = df_final.corr()\n",
    "\n",
    "mask = np.zeros_like(corr, dtype=np.bool)\n",
    "mask[np.triu_indices_from(mask)] = True\n",
    "\n",
    "f, ax = plt.subplots(figsize=(11, 9))\n",
    "\n",
    "# Generate a custom diverging colormap\n",
    "cmap = sns.diverging_palette(220, 10, as_cmap=True)\n",
    "\n",
    "# Draw the heatmap with the mask and correct aspect ratio\n",
    "sns.heatmap(corr, mask=mask, cmap=cmap, vmax=1, center=0,\n",
    "            square=True, linewidths=.5, cbar_kws={\"shrink\": .5})"
   ]
  },
  {
   "cell_type": "markdown",
   "metadata": {},
   "source": [
    "#### In the above correlation matrix we can see that the house prices are correlated to sqft_living, sqft_above and df_bathrooms_log. Now let's look if the variables are correlated to each other to detect Multicollinearity."
   ]
  },
  {
   "cell_type": "markdown",
   "metadata": {},
   "source": [
    "#### Let's check for Multicollinearity"
   ]
  },
  {
   "cell_type": "code",
   "execution_count": 55,
   "metadata": {},
   "outputs": [
    {
     "data": {
      "text/html": [
       "<div>\n",
       "<style scoped>\n",
       "    .dataframe tbody tr th:only-of-type {\n",
       "        vertical-align: middle;\n",
       "    }\n",
       "\n",
       "    .dataframe tbody tr th {\n",
       "        vertical-align: top;\n",
       "    }\n",
       "\n",
       "    .dataframe thead th {\n",
       "        text-align: right;\n",
       "    }\n",
       "</style>\n",
       "<table border=\"1\" class=\"dataframe\">\n",
       "  <thead>\n",
       "    <tr style=\"text-align: right;\">\n",
       "      <th></th>\n",
       "      <th>sqft_living</th>\n",
       "      <th>floors</th>\n",
       "      <th>sqft_above</th>\n",
       "      <th>sqft_basement</th>\n",
       "      <th>lat</th>\n",
       "      <th>long</th>\n",
       "      <th>sqft_living15</th>\n",
       "      <th>sqft_lot15</th>\n",
       "      <th>dateyear</th>\n",
       "      <th>WV_0.0</th>\n",
       "      <th>...</th>\n",
       "      <th>Month_6</th>\n",
       "      <th>Month_7</th>\n",
       "      <th>Month_8</th>\n",
       "      <th>Month_9</th>\n",
       "      <th>Month_10</th>\n",
       "      <th>Month_11</th>\n",
       "      <th>Month_12</th>\n",
       "      <th>df_sqft_lot_log</th>\n",
       "      <th>df_bedrooms_log</th>\n",
       "      <th>df_bathrooms_log</th>\n",
       "    </tr>\n",
       "  </thead>\n",
       "  <tbody>\n",
       "    <tr>\n",
       "      <th>1</th>\n",
       "      <td>2570</td>\n",
       "      <td>2.0</td>\n",
       "      <td>2170</td>\n",
       "      <td>400</td>\n",
       "      <td>47.7210</td>\n",
       "      <td>-122.319</td>\n",
       "      <td>1690</td>\n",
       "      <td>7639</td>\n",
       "      <td>2014</td>\n",
       "      <td>1</td>\n",
       "      <td>...</td>\n",
       "      <td>0</td>\n",
       "      <td>0</td>\n",
       "      <td>0</td>\n",
       "      <td>0</td>\n",
       "      <td>0</td>\n",
       "      <td>0</td>\n",
       "      <td>1</td>\n",
       "      <td>8.887653</td>\n",
       "      <td>1.098612</td>\n",
       "      <td>0.810930</td>\n",
       "    </tr>\n",
       "    <tr>\n",
       "      <th>3</th>\n",
       "      <td>1960</td>\n",
       "      <td>1.0</td>\n",
       "      <td>1050</td>\n",
       "      <td>910</td>\n",
       "      <td>47.5208</td>\n",
       "      <td>-122.393</td>\n",
       "      <td>1360</td>\n",
       "      <td>5000</td>\n",
       "      <td>2014</td>\n",
       "      <td>1</td>\n",
       "      <td>...</td>\n",
       "      <td>0</td>\n",
       "      <td>0</td>\n",
       "      <td>0</td>\n",
       "      <td>0</td>\n",
       "      <td>0</td>\n",
       "      <td>0</td>\n",
       "      <td>1</td>\n",
       "      <td>8.517193</td>\n",
       "      <td>1.386294</td>\n",
       "      <td>1.098612</td>\n",
       "    </tr>\n",
       "    <tr>\n",
       "      <th>5</th>\n",
       "      <td>5420</td>\n",
       "      <td>1.0</td>\n",
       "      <td>3890</td>\n",
       "      <td>1530</td>\n",
       "      <td>47.6561</td>\n",
       "      <td>-122.005</td>\n",
       "      <td>4760</td>\n",
       "      <td>101930</td>\n",
       "      <td>2014</td>\n",
       "      <td>1</td>\n",
       "      <td>...</td>\n",
       "      <td>0</td>\n",
       "      <td>0</td>\n",
       "      <td>0</td>\n",
       "      <td>0</td>\n",
       "      <td>0</td>\n",
       "      <td>0</td>\n",
       "      <td>0</td>\n",
       "      <td>11.532042</td>\n",
       "      <td>1.386294</td>\n",
       "      <td>1.504077</td>\n",
       "    </tr>\n",
       "    <tr>\n",
       "      <th>8</th>\n",
       "      <td>1780</td>\n",
       "      <td>1.0</td>\n",
       "      <td>1050</td>\n",
       "      <td>730</td>\n",
       "      <td>47.5123</td>\n",
       "      <td>-122.337</td>\n",
       "      <td>1780</td>\n",
       "      <td>8113</td>\n",
       "      <td>2015</td>\n",
       "      <td>1</td>\n",
       "      <td>...</td>\n",
       "      <td>0</td>\n",
       "      <td>0</td>\n",
       "      <td>0</td>\n",
       "      <td>0</td>\n",
       "      <td>0</td>\n",
       "      <td>0</td>\n",
       "      <td>0</td>\n",
       "      <td>8.918650</td>\n",
       "      <td>1.098612</td>\n",
       "      <td>0.000000</td>\n",
       "    </tr>\n",
       "    <tr>\n",
       "      <th>10</th>\n",
       "      <td>3560</td>\n",
       "      <td>1.0</td>\n",
       "      <td>1860</td>\n",
       "      <td>1700</td>\n",
       "      <td>47.6007</td>\n",
       "      <td>-122.145</td>\n",
       "      <td>2210</td>\n",
       "      <td>8925</td>\n",
       "      <td>2015</td>\n",
       "      <td>1</td>\n",
       "      <td>...</td>\n",
       "      <td>0</td>\n",
       "      <td>0</td>\n",
       "      <td>0</td>\n",
       "      <td>0</td>\n",
       "      <td>0</td>\n",
       "      <td>0</td>\n",
       "      <td>0</td>\n",
       "      <td>9.189729</td>\n",
       "      <td>1.098612</td>\n",
       "      <td>0.916291</td>\n",
       "    </tr>\n",
       "  </tbody>\n",
       "</table>\n",
       "<p>5 rows × 46 columns</p>\n",
       "</div>"
      ],
      "text/plain": [
       "    sqft_living  floors  sqft_above  sqft_basement      lat     long  \\\n",
       "1          2570     2.0        2170            400  47.7210 -122.319   \n",
       "3          1960     1.0        1050            910  47.5208 -122.393   \n",
       "5          5420     1.0        3890           1530  47.6561 -122.005   \n",
       "8          1780     1.0        1050            730  47.5123 -122.337   \n",
       "10         3560     1.0        1860           1700  47.6007 -122.145   \n",
       "\n",
       "    sqft_living15  sqft_lot15  dateyear  WV_0.0        ...         Month_6  \\\n",
       "1            1690        7639      2014       1        ...               0   \n",
       "3            1360        5000      2014       1        ...               0   \n",
       "5            4760      101930      2014       1        ...               0   \n",
       "8            1780        8113      2015       1        ...               0   \n",
       "10           2210        8925      2015       1        ...               0   \n",
       "\n",
       "    Month_7  Month_8  Month_9  Month_10  Month_11  Month_12  df_sqft_lot_log  \\\n",
       "1         0        0        0         0         0         1         8.887653   \n",
       "3         0        0        0         0         0         1         8.517193   \n",
       "5         0        0        0         0         0         0        11.532042   \n",
       "8         0        0        0         0         0         0         8.918650   \n",
       "10        0        0        0         0         0         0         9.189729   \n",
       "\n",
       "    df_bedrooms_log  df_bathrooms_log  \n",
       "1          1.098612          0.810930  \n",
       "3          1.386294          1.098612  \n",
       "5          1.386294          1.504077  \n",
       "8          1.098612          0.000000  \n",
       "10         1.098612          0.916291  \n",
       "\n",
       "[5 rows x 46 columns]"
      ]
     },
     "execution_count": 55,
     "metadata": {},
     "output_type": "execute_result"
    }
   ],
   "source": [
    "# We will extract all the variables beside the target variable. \n",
    "df_pred= df.iloc[:,3:55]\n",
    "df_pred.head()"
   ]
  },
  {
   "cell_type": "code",
   "execution_count": 56,
   "metadata": {},
   "outputs": [
    {
     "data": {
      "text/plain": [
       "id                  1\n",
       "price               3\n",
       "sqft_living         5\n",
       "floors              1\n",
       "sqft_above          4\n",
       "sqft_basement       2\n",
       "lat                 1\n",
       "long                1\n",
       "sqft_living15       3\n",
       "sqft_lot15          1\n",
       "dateyear            1\n",
       "WV_0.0              2\n",
       "WV_1.0              2\n",
       "View_0.0            1\n",
       "View_1.0            1\n",
       "View_2.0            1\n",
       "View_3.0            1\n",
       "View_4.0            1\n",
       "Con_1               1\n",
       "Con_2               1\n",
       "Con_3               2\n",
       "Con_4               2\n",
       "Con_5               1\n",
       "Grade_4             1\n",
       "Grade_5             1\n",
       "Grade_6             1\n",
       "Grade_7             1\n",
       "Grade_8             1\n",
       "Grade_9             1\n",
       "Grade_10            1\n",
       "Grade_11            1\n",
       "Grade_12            1\n",
       "Grade_13            1\n",
       "Month_1             1\n",
       "Month_2             1\n",
       "Month_3             1\n",
       "Month_4             1\n",
       "Month_5             1\n",
       "Month_6             1\n",
       "Month_7             1\n",
       "Month_8             1\n",
       "Month_9             1\n",
       "Month_10            1\n",
       "Month_11            1\n",
       "Month_12            1\n",
       "df_sqft_lot_log     1\n",
       "df_bedrooms_log     1\n",
       "df_bathrooms_log    1\n",
       "dtype: int64"
      ]
     },
     "execution_count": 56,
     "metadata": {},
     "output_type": "execute_result"
    }
   ],
   "source": [
    "# We will check which variable is correlated to one another (sum them up) - variable that has a higher than 0.65 correlation.\n",
    "(abs(df.corr()) > 0.65).sum()"
   ]
  },
  {
   "cell_type": "code",
   "execution_count": 57,
   "metadata": {},
   "outputs": [
    {
     "data": {
      "image/png": "[encoded data removed]",
      "text/plain": [
       "<Figure size 432x288 with 2 Axes>"
      ]
     },
     "metadata": {},
     "output_type": "display_data"
    }
   ],
   "source": [
    "#We can view the multicollinearity clearer using heatmap.\n",
    "import seaborn as sns\n",
    "sns.heatmap(abs(df.corr()) > 0.70, center=0);"
   ]
  },
  {
   "cell_type": "code",
   "execution_count": 58,
   "metadata": {},
   "outputs": [
    {
     "name": "stdout",
     "output_type": "stream",
     "text": [
      "<class 'pandas.core.frame.DataFrame'>\n",
      "Int64Index: 8284 entries, 1 to 21591\n",
      "Data columns (total 49 columns):\n",
      "id                  8284 non-null int64\n",
      "date                8284 non-null datetime64[ns]\n",
      "price               8284 non-null int64\n",
      "sqft_living         8284 non-null int64\n",
      "floors              8284 non-null float64\n",
      "sqft_above          8284 non-null int64\n",
      "sqft_basement       8284 non-null int64\n",
      "lat                 8284 non-null float64\n",
      "long                8284 non-null float64\n",
      "sqft_living15       8284 non-null int64\n",
      "sqft_lot15          8284 non-null int64\n",
      "dateyear            8284 non-null int64\n",
      "WV_0.0              8284 non-null uint8\n",
      "WV_1.0              8284 non-null uint8\n",
      "View_0.0            8284 non-null uint8\n",
      "View_1.0            8284 non-null uint8\n",
      "View_2.0            8284 non-null uint8\n",
      "View_3.0            8284 non-null uint8\n",
      "View_4.0            8284 non-null uint8\n",
      "Con_1               8284 non-null uint8\n",
      "Con_2               8284 non-null uint8\n",
      "Con_3               8284 non-null uint8\n",
      "Con_4               8284 non-null uint8\n",
      "Con_5               8284 non-null uint8\n",
      "Grade_4             8284 non-null uint8\n",
      "Grade_5             8284 non-null uint8\n",
      "Grade_6             8284 non-null uint8\n",
      "Grade_7             8284 non-null uint8\n",
      "Grade_8             8284 non-null uint8\n",
      "Grade_9             8284 non-null uint8\n",
      "Grade_10            8284 non-null uint8\n",
      "Grade_11            8284 non-null uint8\n",
      "Grade_12            8284 non-null uint8\n",
      "Grade_13            8284 non-null uint8\n",
      "Month_1             8284 non-null uint8\n",
      "Month_2             8284 non-null uint8\n",
      "Month_3             8284 non-null uint8\n",
      "Month_4             8284 non-null uint8\n",
      "Month_5             8284 non-null uint8\n",
      "Month_6             8284 non-null uint8\n",
      "Month_7             8284 non-null uint8\n",
      "Month_8             8284 non-null uint8\n",
      "Month_9             8284 non-null uint8\n",
      "Month_10            8284 non-null uint8\n",
      "Month_11            8284 non-null uint8\n",
      "Month_12            8284 non-null uint8\n",
      "df_sqft_lot_log     8284 non-null float64\n",
      "df_bedrooms_log     8283 non-null float64\n",
      "df_bathrooms_log    8284 non-null float64\n",
      "dtypes: datetime64[ns](1), float64(6), int64(8), uint8(34)\n",
      "memory usage: 1.6 MB\n"
     ]
    }
   ],
   "source": [
    "df.info()"
   ]
  },
  {
   "cell_type": "code",
   "execution_count": 59,
   "metadata": {},
   "outputs": [
    {
     "data": {
      "text/html": [
       "<div>\n",
       "<style scoped>\n",
       "    .dataframe tbody tr th:only-of-type {\n",
       "        vertical-align: middle;\n",
       "    }\n",
       "\n",
       "    .dataframe tbody tr th {\n",
       "        vertical-align: top;\n",
       "    }\n",
       "\n",
       "    .dataframe thead th {\n",
       "        text-align: right;\n",
       "    }\n",
       "</style>\n",
       "<table border=\"1\" class=\"dataframe\">\n",
       "  <thead>\n",
       "    <tr style=\"text-align: right;\">\n",
       "      <th></th>\n",
       "      <th>sqft_lot15</th>\n",
       "      <th>df_sqft_lot_log</th>\n",
       "    </tr>\n",
       "  </thead>\n",
       "  <tbody>\n",
       "    <tr>\n",
       "      <th>sqft_lot15</th>\n",
       "      <td>1.000000</td>\n",
       "      <td>0.580862</td>\n",
       "    </tr>\n",
       "    <tr>\n",
       "      <th>df_sqft_lot_log</th>\n",
       "      <td>0.580862</td>\n",
       "      <td>1.000000</td>\n",
       "    </tr>\n",
       "  </tbody>\n",
       "</table>\n",
       "</div>"
      ],
      "text/plain": [
       "                 sqft_lot15  df_sqft_lot_log\n",
       "sqft_lot15         1.000000         0.580862\n",
       "df_sqft_lot_log    0.580862         1.000000"
      ]
     },
     "execution_count": 59,
     "metadata": {},
     "output_type": "execute_result"
    }
   ],
   "source": [
    "# Even though sqft_lot was not detected - it suggests above that there is a relatively high correlation.\n",
    "df[['sqft_lot15','df_sqft_lot_log']].corr()"
   ]
  },
  {
   "cell_type": "markdown",
   "metadata": {},
   "source": [
    "#### According to high correlation in the above I will be removing the below variables as it is highly correlated to sqft_living. This will avoid Multicollinearity. "
   ]
  },
  {
   "cell_type": "code",
   "execution_count": 60,
   "metadata": {},
   "outputs": [],
   "source": [
    "df.drop(['sqft_above','sqft_basement','sqft_living15','sqft_lot15','df_sqft_lot_log','WV_0.0','Con_3',], axis =1, inplace=True)\n",
    "# I decided to drop Sqft_lot15 as well because it has a fairly high correlation to Sqft_lot15 ~ r=.6\n",
    "\n",
    "\n"
   ]
  },
  {
   "cell_type": "code",
   "execution_count": 61,
   "metadata": {},
   "outputs": [
    {
     "data": {
      "image/png": "[encoded data removed]",
      "text/plain": [
       "<Figure size 432x288 with 2 Axes>"
      ]
     },
     "metadata": {},
     "output_type": "display_data"
    }
   ],
   "source": [
    "#We can re-view the multicollinearity to make sure we handled all the.\n",
    "import seaborn as sns\n",
    "sns.heatmap(abs(df.corr()) > 0.70, center=0);"
   ]
  },
  {
   "cell_type": "markdown",
   "metadata": {},
   "source": [
    "### Scaling \n",
    "##### We will scale the data to help to normalize the data within a particular range.\n"
   ]
  },
  {
   "cell_type": "code",
   "execution_count": 62,
   "metadata": {},
   "outputs": [],
   "source": [
    "sqft_living = df.sqft_living "
   ]
  },
  {
   "cell_type": "code",
   "execution_count": 63,
   "metadata": {},
   "outputs": [],
   "source": [
    "floors = df.floors"
   ]
  },
  {
   "cell_type": "code",
   "execution_count": 64,
   "metadata": {},
   "outputs": [],
   "source": [
    "price = df.price"
   ]
  },
  {
   "cell_type": "code",
   "execution_count": 65,
   "metadata": {},
   "outputs": [],
   "source": [
    "lat =df.lat"
   ]
  },
  {
   "cell_type": "code",
   "execution_count": 66,
   "metadata": {},
   "outputs": [],
   "source": [
    "long = df.long"
   ]
  },
  {
   "cell_type": "code",
   "execution_count": 67,
   "metadata": {},
   "outputs": [],
   "source": [
    "scaled_sqft_lot_log = (df_sqft_lot_log-np.mean(df_sqft_lot_log))/np.sqrt(np.var(df_sqft_lot_log))"
   ]
  },
  {
   "cell_type": "code",
   "execution_count": 68,
   "metadata": {},
   "outputs": [],
   "source": [
    "scaled_floors = (floors-np.mean(floors))/np.sqrt(np.var(floors))"
   ]
  },
  {
   "cell_type": "code",
   "execution_count": 69,
   "metadata": {},
   "outputs": [],
   "source": [
    "scaled_sqft_living = (sqft_living-np.mean(sqft_living))/np.sqrt(np.var(sqft_living))"
   ]
  },
  {
   "cell_type": "code",
   "execution_count": 70,
   "metadata": {},
   "outputs": [],
   "source": [
    "scaled_price = (price-np.mean(price))/np.sqrt(np.var(price))"
   ]
  },
  {
   "cell_type": "code",
   "execution_count": 71,
   "metadata": {},
   "outputs": [],
   "source": [
    "scaled_lat = (lat-np.mean(lat))/np.sqrt(np.var(lat))"
   ]
  },
  {
   "cell_type": "code",
   "execution_count": 72,
   "metadata": {},
   "outputs": [],
   "source": [
    "scaled_long = (long-np.mean(long))/np.sqrt(np.var(long))"
   ]
  },
  {
   "cell_type": "code",
   "execution_count": 73,
   "metadata": {},
   "outputs": [
    {
     "data": {
      "text/plain": [
       "<matplotlib.axes._subplots.AxesSubplot at 0x1c1829a048>"
      ]
     },
     "execution_count": 73,
     "metadata": {},
     "output_type": "execute_result"
    },
    {
     "data": {
      "image/png": "[encoded data removed]",
      "text/plain": [
       "<Figure size 432x288 with 1 Axes>"
      ]
     },
     "metadata": {},
     "output_type": "display_data"
    }
   ],
   "source": [
    "# Let's visualize to compare the scaled data to not scaled one to make sure it worked.\n",
    "sqft_living.hist()\n",
    "\n"
   ]
  },
  {
   "cell_type": "code",
   "execution_count": 74,
   "metadata": {},
   "outputs": [
    {
     "data": {
      "text/plain": [
       "<matplotlib.axes._subplots.AxesSubplot at 0x1c19fd92e8>"
      ]
     },
     "execution_count": 74,
     "metadata": {},
     "output_type": "execute_result"
    },
    {
     "data": {
      "image/png": "[encoded data removed]",
      "text/plain": [
       "<Figure size 432x288 with 1 Axes>"
      ]
     },
     "metadata": {},
     "output_type": "display_data"
    }
   ],
   "source": [
    "scaled_sqft_living.hist()"
   ]
  },
  {
   "cell_type": "code",
   "execution_count": 75,
   "metadata": {},
   "outputs": [
    {
     "data": {
      "text/plain": [
       "<matplotlib.axes._subplots.AxesSubplot at 0x1c18b92860>"
      ]
     },
     "execution_count": 75,
     "metadata": {},
     "output_type": "execute_result"
    },
    {
     "data": {
      "image/png": "[encoded data removed]",
      "text/plain": [
       "<Figure size 432x288 with 1 Axes>"
      ]
     },
     "metadata": {},
     "output_type": "display_data"
    }
   ],
   "source": [
    "floors.hist()"
   ]
  },
  {
   "cell_type": "code",
   "execution_count": 76,
   "metadata": {},
   "outputs": [
    {
     "data": {
      "text/plain": [
       "<matplotlib.axes._subplots.AxesSubplot at 0x1c18322eb8>"
      ]
     },
     "execution_count": 76,
     "metadata": {},
     "output_type": "execute_result"
    },
    {
     "data": {
      "image/png": "[encoded data removed]",
      "text/plain": [
       "<Figure size 432x288 with 1 Axes>"
      ]
     },
     "metadata": {},
     "output_type": "display_data"
    }
   ],
   "source": [
    "scaled_floors.hist()"
   ]
  },
  {
   "cell_type": "code",
   "execution_count": 77,
   "metadata": {},
   "outputs": [],
   "source": [
    "df['scaled_sqft_living'] = scaled_sqft_living\n",
    "df['scaled_sqft_lot_log'] = scaled_sqft_lot_log\n",
    "df['scaled_floors'] = scaled_floors\n",
    "df['scaled_price'] =scaled_price\n",
    "df['scaled_lat'] = scaled_lat\n",
    "df['scaled_long'] = scaled_long"
   ]
  },
  {
   "cell_type": "code",
   "execution_count": 78,
   "metadata": {},
   "outputs": [],
   "source": [
    "df.drop(['price','sqft_living', 'floors','lat','long'], axis=1, inplace = True)"
   ]
  },
  {
   "cell_type": "markdown",
   "metadata": {},
   "source": [
    "# Model Data"
   ]
  },
  {
   "cell_type": "markdown",
   "metadata": {},
   "source": [
    "#### We will use the stepwise selection in order to select the most fitting variables. "
   ]
  },
  {
   "cell_type": "code",
   "execution_count": 79,
   "metadata": {},
   "outputs": [],
   "source": [
    "df.drop(['date','id'], axis =1, inplace=True)"
   ]
  },
  {
   "cell_type": "code",
   "execution_count": 80,
   "metadata": {},
   "outputs": [],
   "source": [
    "import statsmodels.api as sm\n",
    "\n",
    "def stepwise_selection(X, y, \n",
    "                       initial_list=[], \n",
    "                       threshold_in=0.01, \n",
    "                       threshold_out = 0.05, \n",
    "                       verbose=True):\n",
    "    \"\"\" Perform a forward-backward feature selection \n",
    "    based on p-value from statsmodels.api.OLS\n",
    "    Arguments:\n",
    "        X - pandas.DataFrame with candidate features\n",
    "        y - list-like with the target\n",
    "        initial_list - list of features to start with (column names of X)\n",
    "        threshold_in - include a feature if its p-value < threshold_in\n",
    "        threshold_out - exclude a feature if its p-value > threshold_out\n",
    "        verbose - whether to print the sequence of inclusions and exclusions\n",
    "    Returns: list of selected features \n",
    "    Always set threshold_in < threshold_out to avoid infinite looping.\n",
    "    See https://en.wikipedia.org/wiki/Stepwise_regression for the details\n",
    "    \"\"\"\n",
    "    included = list(initial_list)\n",
    "    while True:\n",
    "        changed=False\n",
    "        # forward step\n",
    "        excluded = list(set(X.columns)-set(included))\n",
    "        new_pval = pd.Series(index=excluded)\n",
    "        for new_column in excluded:\n",
    "            model = sm.OLS(y, sm.add_constant(pd.DataFrame(X[included+[new_column]]))).fit()\n",
    "            new_pval[new_column] = model.pvalues[new_column]\n",
    "        best_pval = new_pval.min()\n",
    "        if best_pval < threshold_in:\n",
    "            best_feature = new_pval.idxmin()\n",
    "            included.append(best_feature)\n",
    "            changed=True\n",
    "            if verbose:\n",
    "                print('Add  {:30} with p-value {:.6}'.format(best_feature, best_pval))\n",
    "\n",
    "        # backward step\n",
    "        model = sm.OLS(y, sm.add_constant(pd.DataFrame(X[included]))).fit()\n",
    "        # use all coefs except intercept\n",
    "        pvalues = model.pvalues.iloc[1:]\n",
    "        worst_pval = pvalues.max() # null if pvalues is empty\n",
    "        if worst_pval > threshold_out:\n",
    "            changed=True\n",
    "            worst_feature = pvalues.argmax()\n",
    "            included.remove(worst_feature)\n",
    "            if verbose:\n",
    "                print('Drop {:30} with p-value {:.6}'.format(worst_feature, worst_pval))\n",
    "        if not changed:\n",
    "            break\n",
    "    return included\n",
    "\n",
    " \n",
    "\n",
    "      \n"
   ]
  },
  {
   "cell_type": "code",
   "execution_count": 81,
   "metadata": {},
   "outputs": [],
   "source": [
    "predictors = df.drop('scaled_price', axis=1)"
   ]
  },
  {
   "cell_type": "code",
   "execution_count": 82,
   "metadata": {},
   "outputs": [
    {
     "data": {
      "text/plain": [
       "dateyear               0\n",
       "WV_1.0                 0\n",
       "View_0.0               0\n",
       "View_1.0               0\n",
       "View_2.0               0\n",
       "View_3.0               0\n",
       "View_4.0               0\n",
       "Con_1                  0\n",
       "Con_2                  0\n",
       "Con_4                  0\n",
       "Con_5                  0\n",
       "Grade_4                0\n",
       "Grade_5                0\n",
       "Grade_6                0\n",
       "Grade_7                0\n",
       "Grade_8                0\n",
       "Grade_9                0\n",
       "Grade_10               0\n",
       "Grade_11               0\n",
       "Grade_12               0\n",
       "Grade_13               0\n",
       "Month_1                0\n",
       "Month_2                0\n",
       "Month_3                0\n",
       "Month_4                0\n",
       "Month_5                0\n",
       "Month_6                0\n",
       "Month_7                0\n",
       "Month_8                0\n",
       "Month_9                0\n",
       "Month_10               0\n",
       "Month_11               0\n",
       "Month_12               0\n",
       "df_bedrooms_log        1\n",
       "df_bathrooms_log       0\n",
       "scaled_sqft_living     0\n",
       "scaled_sqft_lot_log    0\n",
       "scaled_floors          0\n",
       "scaled_price           0\n",
       "scaled_lat             0\n",
       "scaled_long            0\n",
       "dtype: int64"
      ]
     },
     "execution_count": 82,
     "metadata": {},
     "output_type": "execute_result"
    }
   ],
   "source": [
    "df.isnull().sum()"
   ]
  },
  {
   "cell_type": "code",
   "execution_count": 83,
   "metadata": {},
   "outputs": [],
   "source": [
    "df = df.dropna(subset=['df_bedrooms_log'])"
   ]
  },
  {
   "cell_type": "code",
   "execution_count": 84,
   "metadata": {},
   "outputs": [
    {
     "name": "stdout",
     "output_type": "stream",
     "text": [
      "<class 'pandas.core.frame.DataFrame'>\n",
      "Int64Index: 8283 entries, 1 to 21591\n",
      "Data columns (total 41 columns):\n",
      "dateyear               8283 non-null int64\n",
      "WV_1.0                 8283 non-null uint8\n",
      "View_0.0               8283 non-null uint8\n",
      "View_1.0               8283 non-null uint8\n",
      "View_2.0               8283 non-null uint8\n",
      "View_3.0               8283 non-null uint8\n",
      "View_4.0               8283 non-null uint8\n",
      "Con_1                  8283 non-null uint8\n",
      "Con_2                  8283 non-null uint8\n",
      "Con_4                  8283 non-null uint8\n",
      "Con_5                  8283 non-null uint8\n",
      "Grade_4                8283 non-null uint8\n",
      "Grade_5                8283 non-null uint8\n",
      "Grade_6                8283 non-null uint8\n",
      "Grade_7                8283 non-null uint8\n",
      "Grade_8                8283 non-null uint8\n",
      "Grade_9                8283 non-null uint8\n",
      "Grade_10               8283 non-null uint8\n",
      "Grade_11               8283 non-null uint8\n",
      "Grade_12               8283 non-null uint8\n",
      "Grade_13               8283 non-null uint8\n",
      "Month_1                8283 non-null uint8\n",
      "Month_2                8283 non-null uint8\n",
      "Month_3                8283 non-null uint8\n",
      "Month_4                8283 non-null uint8\n",
      "Month_5                8283 non-null uint8\n",
      "Month_6                8283 non-null uint8\n",
      "Month_7                8283 non-null uint8\n",
      "Month_8                8283 non-null uint8\n",
      "Month_9                8283 non-null uint8\n",
      "Month_10               8283 non-null uint8\n",
      "Month_11               8283 non-null uint8\n",
      "Month_12               8283 non-null uint8\n",
      "df_bedrooms_log        8283 non-null float64\n",
      "df_bathrooms_log       8283 non-null float64\n",
      "scaled_sqft_living     8283 non-null float64\n",
      "scaled_sqft_lot_log    8283 non-null float64\n",
      "scaled_floors          8283 non-null float64\n",
      "scaled_price           8283 non-null float64\n",
      "scaled_lat             8283 non-null float64\n",
      "scaled_long            8283 non-null float64\n",
      "dtypes: float64(8), int64(1), uint8(32)\n",
      "memory usage: 906.0 KB\n"
     ]
    }
   ],
   "source": [
    "df.info()"
   ]
  },
  {
   "cell_type": "markdown",
   "metadata": {},
   "source": [
    "#### Let's look at the results and see which variables will be added to our model."
   ]
  },
  {
   "cell_type": "code",
   "execution_count": 93,
   "metadata": {},
   "outputs": [],
   "source": [
    "# Let's set up the variables \n",
    "\n",
    "X = df.drop(['scaled_price',], axis=1)\n",
    "y = df[['scaled_price']]"
   ]
  },
  {
   "cell_type": "code",
   "execution_count": 94,
   "metadata": {},
   "outputs": [
    {
     "data": {
      "text/plain": [
       "(8284, 40)"
      ]
     },
     "execution_count": 94,
     "metadata": {},
     "output_type": "execute_result"
    }
   ],
   "source": [
    "predictors.shape"
   ]
  },
  {
   "cell_type": "code",
   "execution_count": 95,
   "metadata": {},
   "outputs": [
    {
     "data": {
      "text/plain": [
       "(8283, 1)"
      ]
     },
     "execution_count": 95,
     "metadata": {},
     "output_type": "execute_result"
    }
   ],
   "source": [
    "y.shape"
   ]
  },
  {
   "cell_type": "code",
   "execution_count": 96,
   "metadata": {},
   "outputs": [
    {
     "data": {
      "text/plain": [
       "(8283, 40)"
      ]
     },
     "execution_count": 96,
     "metadata": {},
     "output_type": "execute_result"
    }
   ],
   "source": [
    "X.shape"
   ]
  },
  {
   "cell_type": "code",
   "execution_count": 97,
   "metadata": {
    "scrolled": true
   },
   "outputs": [
    {
     "name": "stdout",
     "output_type": "stream",
     "text": [
      "Add  View_0.0                       with p-value 0.0\n",
      "Add  scaled_sqft_living             with p-value 0.0\n",
      "Add  scaled_lat                     with p-value 3.05318e-215\n",
      "Add  WV_1.0                         with p-value 4.16106e-139\n",
      "Add  Grade_13                       with p-value 2.01669e-98\n",
      "Add  scaled_sqft_lot_log            with p-value 1.65597e-69\n",
      "Add  Grade_12                       with p-value 2.44135e-68\n",
      "Add  Grade_11                       with p-value 9.61436e-88\n",
      "Add  Grade_10                       with p-value 1.22571e-94\n",
      "Add  Grade_9                        with p-value 6.97616e-77\n",
      "Add  Con_5                          with p-value 6.85274e-41\n",
      "Add  Con_4                          with p-value 2.87318e-26\n",
      "Add  Grade_8                        with p-value 6.42618e-21\n",
      "Add  scaled_long                    with p-value 5.91961e-15\n",
      "Add  dateyear                       with p-value 1.32164e-12\n",
      "Add  View_2.0                       with p-value 9.76629e-11\n",
      "Add  df_bedrooms_log                with p-value 3.8142e-08\n",
      "Add  View_4.0                       with p-value 5.5147e-06\n",
      "Add  Month_1                        with p-value 8.96808e-05\n",
      "Add  Month_2                        with p-value 0.00012946\n",
      "Add  Grade_6                        with p-value 0.00850624\n",
      "resulting features:\n",
      "['View_0.0', 'scaled_sqft_living', 'scaled_lat', 'WV_1.0', 'Grade_13', 'scaled_sqft_lot_log', 'Grade_12', 'Grade_11', 'Grade_10', 'Grade_9', 'Con_5', 'Con_4', 'Grade_8', 'scaled_long', 'dateyear', 'View_2.0', 'df_bedrooms_log', 'View_4.0', 'Month_1', 'Month_2', 'Grade_6']\n"
     ]
    }
   ],
   "source": [
    "result = stepwise_selection(X, y, verbose = True)\n",
    "print('resulting features:')\n",
    "print(result)"
   ]
  },
  {
   "cell_type": "markdown",
   "metadata": {},
   "source": [
    "#### Build the final model again in Statsmodels"
   ]
  },
  {
   "cell_type": "code",
   "execution_count": 98,
   "metadata": {},
   "outputs": [
    {
     "data": {
      "text/html": [
       "<table class=\"simpletable\">\n",
       "<caption>OLS Regression Results</caption>\n",
       "<tr>\n",
       "  <th>Dep. Variable:</th>      <td>scaled_price</td>   <th>  R-squared:         </th> <td>   0.679</td> \n",
       "</tr>\n",
       "<tr>\n",
       "  <th>Model:</th>                   <td>OLS</td>       <th>  Adj. R-squared:    </th> <td>   0.678</td> \n",
       "</tr>\n",
       "<tr>\n",
       "  <th>Method:</th>             <td>Least Squares</td>  <th>  F-statistic:       </th> <td>   970.9</td> \n",
       "</tr>\n",
       "<tr>\n",
       "  <th>Date:</th>             <td>Wed, 14 Aug 2019</td> <th>  Prob (F-statistic):</th>  <td>  0.00</td>  \n",
       "</tr>\n",
       "<tr>\n",
       "  <th>Time:</th>                 <td>11:11:59</td>     <th>  Log-Likelihood:    </th> <td> -7048.2</td> \n",
       "</tr>\n",
       "<tr>\n",
       "  <th>No. Observations:</th>      <td>  8283</td>      <th>  AIC:               </th> <td>1.413e+04</td>\n",
       "</tr>\n",
       "<tr>\n",
       "  <th>Df Residuals:</th>          <td>  8264</td>      <th>  BIC:               </th> <td>1.427e+04</td>\n",
       "</tr>\n",
       "<tr>\n",
       "  <th>Df Model:</th>              <td>    18</td>      <th>                     </th>     <td> </td>    \n",
       "</tr>\n",
       "<tr>\n",
       "  <th>Covariance Type:</th>      <td>nonrobust</td>    <th>                     </th>     <td> </td>    \n",
       "</tr>\n",
       "</table>\n",
       "<table class=\"simpletable\">\n",
       "<tr>\n",
       "         <td></td>            <th>coef</th>     <th>std err</th>      <th>t</th>      <th>P>|t|</th>  <th>[0.025</th>    <th>0.975]</th>  \n",
       "</tr>\n",
       "<tr>\n",
       "  <th>const</th>           <td> -227.4192</td> <td>   30.844</td> <td>   -7.373</td> <td> 0.000</td> <td> -287.882</td> <td> -166.956</td>\n",
       "</tr>\n",
       "<tr>\n",
       "  <th>View_0.0</th>        <td>   -0.4037</td> <td>    0.026</td> <td>  -15.811</td> <td> 0.000</td> <td>   -0.454</td> <td>   -0.354</td>\n",
       "</tr>\n",
       "<tr>\n",
       "  <th>scaled_lat</th>      <td>    0.2018</td> <td>    0.006</td> <td>   31.751</td> <td> 0.000</td> <td>    0.189</td> <td>    0.214</td>\n",
       "</tr>\n",
       "<tr>\n",
       "  <th>WV_1.0</th>          <td>    1.5559</td> <td>    0.071</td> <td>   21.791</td> <td> 0.000</td> <td>    1.416</td> <td>    1.696</td>\n",
       "</tr>\n",
       "<tr>\n",
       "  <th>Grade_13</th>        <td>    7.8869</td> <td>    0.181</td> <td>   43.500</td> <td> 0.000</td> <td>    7.532</td> <td>    8.242</td>\n",
       "</tr>\n",
       "<tr>\n",
       "  <th>Grade_12</th>        <td>    4.0020</td> <td>    0.089</td> <td>   44.821</td> <td> 0.000</td> <td>    3.827</td> <td>    4.177</td>\n",
       "</tr>\n",
       "<tr>\n",
       "  <th>Grade_11</th>        <td>    2.5035</td> <td>    0.048</td> <td>   51.845</td> <td> 0.000</td> <td>    2.409</td> <td>    2.598</td>\n",
       "</tr>\n",
       "<tr>\n",
       "  <th>Grade_10</th>        <td>    1.5013</td> <td>    0.032</td> <td>   46.751</td> <td> 0.000</td> <td>    1.438</td> <td>    1.564</td>\n",
       "</tr>\n",
       "<tr>\n",
       "  <th>Grade_9</th>         <td>    0.8454</td> <td>    0.024</td> <td>   35.738</td> <td> 0.000</td> <td>    0.799</td> <td>    0.892</td>\n",
       "</tr>\n",
       "<tr>\n",
       "  <th>Con_5</th>           <td>    0.3201</td> <td>    0.020</td> <td>   15.937</td> <td> 0.000</td> <td>    0.281</td> <td>    0.359</td>\n",
       "</tr>\n",
       "<tr>\n",
       "  <th>Grade_8</th>         <td>    0.2615</td> <td>    0.015</td> <td>   17.319</td> <td> 0.000</td> <td>    0.232</td> <td>    0.291</td>\n",
       "</tr>\n",
       "<tr>\n",
       "  <th>scaled_long</th>     <td>   -0.0304</td> <td>    0.007</td> <td>   -4.639</td> <td> 0.000</td> <td>   -0.043</td> <td>   -0.018</td>\n",
       "</tr>\n",
       "<tr>\n",
       "  <th>dateyear</th>        <td>    0.1127</td> <td>    0.015</td> <td>    7.358</td> <td> 0.000</td> <td>    0.083</td> <td>    0.143</td>\n",
       "</tr>\n",
       "<tr>\n",
       "  <th>View_2.0</th>        <td>   -0.1721</td> <td>    0.033</td> <td>   -5.198</td> <td> 0.000</td> <td>   -0.237</td> <td>   -0.107</td>\n",
       "</tr>\n",
       "<tr>\n",
       "  <th>View_4.0</th>        <td>    0.2420</td> <td>    0.051</td> <td>    4.781</td> <td> 0.000</td> <td>    0.143</td> <td>    0.341</td>\n",
       "</tr>\n",
       "<tr>\n",
       "  <th>scaled_floors</th>   <td>    0.0456</td> <td>    0.007</td> <td>    6.328</td> <td> 0.000</td> <td>    0.031</td> <td>    0.060</td>\n",
       "</tr>\n",
       "<tr>\n",
       "  <th>df_bedrooms_log</th> <td>    0.3394</td> <td>    0.024</td> <td>   14.293</td> <td> 0.000</td> <td>    0.293</td> <td>    0.386</td>\n",
       "</tr>\n",
       "<tr>\n",
       "  <th>Month_1</th>         <td>   -0.1440</td> <td>    0.033</td> <td>   -4.325</td> <td> 0.000</td> <td>   -0.209</td> <td>   -0.079</td>\n",
       "</tr>\n",
       "<tr>\n",
       "  <th>Month_2</th>         <td>   -0.1096</td> <td>    0.029</td> <td>   -3.731</td> <td> 0.000</td> <td>   -0.167</td> <td>   -0.052</td>\n",
       "</tr>\n",
       "</table>\n",
       "<table class=\"simpletable\">\n",
       "<tr>\n",
       "  <th>Omnibus:</th>       <td>5440.938</td> <th>  Durbin-Watson:     </th>  <td>   1.988</td> \n",
       "</tr>\n",
       "<tr>\n",
       "  <th>Prob(Omnibus):</th>  <td> 0.000</td>  <th>  Jarque-Bera (JB):  </th> <td>305241.792</td>\n",
       "</tr>\n",
       "<tr>\n",
       "  <th>Skew:</th>           <td> 2.485</td>  <th>  Prob(JB):          </th>  <td>    0.00</td> \n",
       "</tr>\n",
       "<tr>\n",
       "  <th>Kurtosis:</th>       <td>32.321</td>  <th>  Cond. No.          </th>  <td>9.97e+06</td> \n",
       "</tr>\n",
       "</table><br/><br/>Warnings:<br/>[1] Standard Errors assume that the covariance matrix of the errors is correctly specified.<br/>[2] The condition number is large, 9.97e+06. This might indicate that there are<br/>strong multicollinearity or other numerical problems."
      ],
      "text/plain": [
       "<class 'statsmodels.iolib.summary.Summary'>\n",
       "\"\"\"\n",
       "                            OLS Regression Results                            \n",
       "==============================================================================\n",
       "Dep. Variable:           scaled_price   R-squared:                       0.679\n",
       "Model:                            OLS   Adj. R-squared:                  0.678\n",
       "Method:                 Least Squares   F-statistic:                     970.9\n",
       "Date:                Wed, 14 Aug 2019   Prob (F-statistic):               0.00\n",
       "Time:                        11:11:59   Log-Likelihood:                -7048.2\n",
       "No. Observations:                8283   AIC:                         1.413e+04\n",
       "Df Residuals:                    8264   BIC:                         1.427e+04\n",
       "Df Model:                          18                                         \n",
       "Covariance Type:            nonrobust                                         \n",
       "===================================================================================\n",
       "                      coef    std err          t      P>|t|      [0.025      0.975]\n",
       "-----------------------------------------------------------------------------------\n",
       "const            -227.4192     30.844     -7.373      0.000    -287.882    -166.956\n",
       "View_0.0           -0.4037      0.026    -15.811      0.000      -0.454      -0.354\n",
       "scaled_lat          0.2018      0.006     31.751      0.000       0.189       0.214\n",
       "WV_1.0              1.5559      0.071     21.791      0.000       1.416       1.696\n",
       "Grade_13            7.8869      0.181     43.500      0.000       7.532       8.242\n",
       "Grade_12            4.0020      0.089     44.821      0.000       3.827       4.177\n",
       "Grade_11            2.5035      0.048     51.845      0.000       2.409       2.598\n",
       "Grade_10            1.5013      0.032     46.751      0.000       1.438       1.564\n",
       "Grade_9             0.8454      0.024     35.738      0.000       0.799       0.892\n",
       "Con_5               0.3201      0.020     15.937      0.000       0.281       0.359\n",
       "Grade_8             0.2615      0.015     17.319      0.000       0.232       0.291\n",
       "scaled_long        -0.0304      0.007     -4.639      0.000      -0.043      -0.018\n",
       "dateyear            0.1127      0.015      7.358      0.000       0.083       0.143\n",
       "View_2.0           -0.1721      0.033     -5.198      0.000      -0.237      -0.107\n",
       "View_4.0            0.2420      0.051      4.781      0.000       0.143       0.341\n",
       "scaled_floors       0.0456      0.007      6.328      0.000       0.031       0.060\n",
       "df_bedrooms_log     0.3394      0.024     14.293      0.000       0.293       0.386\n",
       "Month_1            -0.1440      0.033     -4.325      0.000      -0.209      -0.079\n",
       "Month_2            -0.1096      0.029     -3.731      0.000      -0.167      -0.052\n",
       "==============================================================================\n",
       "Omnibus:                     5440.938   Durbin-Watson:                   1.988\n",
       "Prob(Omnibus):                  0.000   Jarque-Bera (JB):           305241.792\n",
       "Skew:                           2.485   Prob(JB):                         0.00\n",
       "Kurtosis:                      32.321   Cond. No.                     9.97e+06\n",
       "==============================================================================\n",
       "\n",
       "Warnings:\n",
       "[1] Standard Errors assume that the covariance matrix of the errors is correctly specified.\n",
       "[2] The condition number is large, 9.97e+06. This might indicate that there are\n",
       "strong multicollinearity or other numerical problems.\n",
       "\"\"\""
      ]
     },
     "execution_count": 98,
     "metadata": {},
     "output_type": "execute_result"
    }
   ],
   "source": [
    "import statsmodels.api as sm\n",
    "X_fin = X[['View_0.0', 'scaled_lat',  'WV_1.0',  'Grade_13', 'Grade_12', 'Grade_11', 'Grade_10', 'Grade_9', 'Con_5', 'Grade_8', 'scaled_long', 'dateyear', 'View_2.0', 'View_4.0', 'scaled_floors', 'df_bedrooms_log', 'Month_1', 'Month_2']]\n",
    "X_int = sm.add_constant(X_fin)\n",
    "model = sm.OLS(y,X_int).fit()\n",
    "model.summary()\n",
    "\n",
    "\n"
   ]
  },
  {
   "cell_type": "markdown",
   "metadata": {},
   "source": [
    "#### Here we will  run the model with sklearn.linear in order to double-check that we ran our model correctly  "
   ]
  },
  {
   "cell_type": "code",
   "execution_count": 99,
   "metadata": {},
   "outputs": [
    {
     "data": {
      "text/plain": [
       "LinearRegression(copy_X=True, fit_intercept=True, n_jobs=1, normalize=False)"
      ]
     },
     "execution_count": 99,
     "metadata": {},
     "output_type": "execute_result"
    }
   ],
   "source": [
    "from sklearn.linear_model import LinearRegression\n",
    "linreg = LinearRegression()\n",
    "linreg.fit(X_fin, y)"
   ]
  },
  {
   "cell_type": "code",
   "execution_count": 100,
   "metadata": {},
   "outputs": [
    {
     "data": {
      "text/plain": [
       "LinearRegression(copy_X=True, fit_intercept=True, n_jobs=1, normalize=False)"
      ]
     },
     "execution_count": 100,
     "metadata": {},
     "output_type": "execute_result"
    }
   ],
   "source": [
    "LinearRegression(copy_X=True, fit_intercept=True, n_jobs=1, normalize=False)\n"
   ]
  },
  {
   "cell_type": "code",
   "execution_count": 101,
   "metadata": {},
   "outputs": [
    {
     "data": {
      "text/plain": [
       "array([[-0.40374128,  0.20176643,  1.5558856 ,  7.88694234,  4.00203312,\n",
       "         2.50345987,  1.50131562,  0.84538259,  0.32006653,  0.26148467,\n",
       "        -0.03036543,  0.11267949, -0.17213855,  0.24201528,  0.04558066,\n",
       "         0.33942285, -0.14395231, -0.10956084]])"
      ]
     },
     "execution_count": 101,
     "metadata": {},
     "output_type": "execute_result"
    }
   ],
   "source": [
    "linreg.coef_"
   ]
  },
  {
   "cell_type": "code",
   "execution_count": 102,
   "metadata": {},
   "outputs": [
    {
     "data": {
      "text/plain": [
       "array([-227.41915588])"
      ]
     },
     "execution_count": 102,
     "metadata": {},
     "output_type": "execute_result"
    }
   ],
   "source": [
    "linreg.intercept_\n"
   ]
  },
  {
   "cell_type": "markdown",
   "metadata": {},
   "source": [
    "### Train Test Split"
   ]
  },
  {
   "cell_type": "markdown",
   "metadata": {},
   "source": [
    "#### We will perform a train-test-split with a test set of 0.20."
   ]
  },
  {
   "cell_type": "code",
   "execution_count": 103,
   "metadata": {},
   "outputs": [],
   "source": [
    "from sklearn.model_selection import train_test_split"
   ]
  },
  {
   "cell_type": "code",
   "execution_count": 104,
   "metadata": {},
   "outputs": [],
   "source": [
    "# We will define the X and y test and train data and split so that the test size will be 20% of the data\n",
    "X_train, X_test, y_train, y_test = train_test_split(X_fin, y, test_size = 0.20)"
   ]
  },
  {
   "cell_type": "markdown",
   "metadata": {},
   "source": [
    "#### Let's look at a brief preview of our train test split - we will keep it random."
   ]
  },
  {
   "cell_type": "code",
   "execution_count": 105,
   "metadata": {},
   "outputs": [
    {
     "name": "stdout",
     "output_type": "stream",
     "text": [
      "6626 1657 6626 1657\n"
     ]
    }
   ],
   "source": [
    "print(len(X_train), len(X_test), len(y_train), len(y_test))"
   ]
  },
  {
   "cell_type": "code",
   "execution_count": 106,
   "metadata": {},
   "outputs": [],
   "source": [
    "from sklearn.linear_model import LinearRegression\n",
    "linreg = LinearRegression()\n",
    "\n",
    "linreg.fit(X_train, y_train)\n",
    "y_hat_test = linreg.predict(X_test)\n"
   ]
  },
  {
   "cell_type": "markdown",
   "metadata": {},
   "source": [
    "#### Let's check the accuracy of our data by recalulating the R squared "
   ]
  },
  {
   "cell_type": "code",
   "execution_count": 107,
   "metadata": {},
   "outputs": [
    {
     "data": {
      "text/plain": [
       "0.6729945275416673"
      ]
     },
     "execution_count": 107,
     "metadata": {},
     "output_type": "execute_result"
    }
   ],
   "source": [
    "linreg.score(X_test, y_test)"
   ]
  },
  {
   "cell_type": "markdown",
   "metadata": {},
   "source": [
    "#### Let's compare the MSE of our train versus test data to make sure it is not over/underfit"
   ]
  },
  {
   "cell_type": "code",
   "execution_count": 108,
   "metadata": {},
   "outputs": [
    {
     "data": {
      "text/plain": [
       "0.3503788417169405"
      ]
     },
     "execution_count": 108,
     "metadata": {},
     "output_type": "execute_result"
    }
   ],
   "source": [
    "# We will use sklearn.metrics to calculate the test data Mean Square Error \n",
    "\n",
    "from sklearn.metrics import mean_squared_error\n",
    "test_residuals = y_hat_test - y_test\n",
    "\n",
    "test_mse = mean_squared_error(y_test, y_hat_test)\n",
    "test_mse"
   ]
  },
  {
   "cell_type": "code",
   "execution_count": 109,
   "metadata": {},
   "outputs": [],
   "source": [
    "# we wil define our y_hat_train\n",
    "y_hat_train = linreg.predict(X_train)"
   ]
  },
  {
   "cell_type": "code",
   "execution_count": 110,
   "metadata": {},
   "outputs": [
    {
     "data": {
      "text/plain": [
       "0.3145557386973185"
      ]
     },
     "execution_count": 110,
     "metadata": {},
     "output_type": "execute_result"
    }
   ],
   "source": [
    "# We will use sklearn.metrics to calculate train data MSE \n",
    "from sklearn.metrics import mean_squared_error\n",
    "train_residuals = y_hat_train - y_train\n",
    "\n",
    "train_mse = mean_squared_error(y_train, y_hat_train)\n",
    "train_mse"
   ]
  },
  {
   "cell_type": "markdown",
   "metadata": {},
   "source": [
    "#### Let's check the data's residuals are nornally distributed."
   ]
  },
  {
   "cell_type": "code",
   "execution_count": 111,
   "metadata": {},
   "outputs": [
    {
     "name": "stderr",
     "output_type": "stream",
     "text": [
      "/Users/nataliagoncharov/anaconda3/lib/python3.7/site-packages/scipy/stats/stats.py:1713: FutureWarning: Using a non-tuple sequence for multidimensional indexing is deprecated; use `arr[tuple(seq)]` instead of `arr[seq]`. In the future this will be interpreted as an array index, `arr[np.array(seq)]`, which will result either in an error or a different result.\n",
      "  return np.add.reduce(sorted[indexer] * weights, axis=axis) / sumval\n"
     ]
    },
    {
     "data": {
      "image/png": "[encoded data removed]",
      "text/plain": [
       "<Figure size 432x288 with 1 Axes>"
      ]
     },
     "metadata": {},
     "output_type": "display_data"
    }
   ],
   "source": [
    "sns.distplot(train_residuals)\n",
    "plt.title('Residulas' )\n",
    "plt.xlabel('X')\n",
    "plt.ylabel('density')\n",
    "plt.show()"
   ]
  },
  {
   "cell_type": "code",
   "execution_count": null,
   "metadata": {},
   "outputs": [],
   "source": [
    "# Summary - Key take aways \n",
    "#results  - happy with model?\n"
   ]
  },
  {
   "cell_type": "code",
   "execution_count": null,
   "metadata": {},
   "outputs": [],
   "source": []
  },
  {
   "cell_type": "code",
   "execution_count": null,
   "metadata": {},
   "outputs": [],
   "source": []
  },
  {
   "cell_type": "code",
   "execution_count": null,
   "metadata": {},
   "outputs": [],
   "source": []
  }
 ],
 "metadata": {
  "kernelspec": {
   "display_name": "learn-env",
   "language": "python",
   "name": "learn-env"
  }
 },
 "nbformat": 4,
 "nbformat_minor": 2
}
